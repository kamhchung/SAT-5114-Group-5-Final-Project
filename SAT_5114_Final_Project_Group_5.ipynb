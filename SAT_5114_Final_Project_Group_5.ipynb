{
  "nbformat": 4,
  "nbformat_minor": 0,
  "metadata": {
    "colab": {
      "provenance": [],
      "collapsed_sections": [
        "S4Z2pyr-GHk8",
        "INBcU2C6ASnJ",
        "RgyXwGDaKL4s",
        "k3daZPF1FUh0"
      ]
    },
    "kernelspec": {
      "name": "python3",
      "display_name": "Python 3"
    },
    "language_info": {
      "name": "python"
    },
    "widgets": {
      "application/vnd.jupyter.widget-state+json": {
        "609bde36a94248039ba7f86b3ba54f10": {
          "model_module": "@jupyter-widgets/controls",
          "model_name": "DropdownModel",
          "model_module_version": "1.5.0",
          "state": {
            "_dom_classes": [],
            "_model_module": "@jupyter-widgets/controls",
            "_model_module_version": "1.5.0",
            "_model_name": "DropdownModel",
            "_options_labels": [
              "--",
              "Blue or pale all over",
              "Blue at extremities, body pink",
              "Completely pink"
            ],
            "_view_count": null,
            "_view_module": "@jupyter-widgets/controls",
            "_view_module_version": "1.5.0",
            "_view_name": "DropdownView",
            "description": "Appearance:",
            "description_tooltip": null,
            "disabled": false,
            "index": 1,
            "layout": "IPY_MODEL_22dbc3bb456d44c7bf89ae0ba0dcb0e3",
            "style": "IPY_MODEL_7b4f9660c375478c9f75d8761edb339d"
          }
        },
        "22dbc3bb456d44c7bf89ae0ba0dcb0e3": {
          "model_module": "@jupyter-widgets/base",
          "model_name": "LayoutModel",
          "model_module_version": "1.2.0",
          "state": {
            "_model_module": "@jupyter-widgets/base",
            "_model_module_version": "1.2.0",
            "_model_name": "LayoutModel",
            "_view_count": null,
            "_view_module": "@jupyter-widgets/base",
            "_view_module_version": "1.2.0",
            "_view_name": "LayoutView",
            "align_content": null,
            "align_items": null,
            "align_self": null,
            "border": null,
            "bottom": null,
            "display": null,
            "flex": null,
            "flex_flow": null,
            "grid_area": null,
            "grid_auto_columns": null,
            "grid_auto_flow": null,
            "grid_auto_rows": null,
            "grid_column": null,
            "grid_gap": null,
            "grid_row": null,
            "grid_template_areas": null,
            "grid_template_columns": null,
            "grid_template_rows": null,
            "height": null,
            "justify_content": null,
            "justify_items": null,
            "left": null,
            "margin": null,
            "max_height": null,
            "max_width": null,
            "min_height": null,
            "min_width": null,
            "object_fit": null,
            "object_position": null,
            "order": null,
            "overflow": null,
            "overflow_x": null,
            "overflow_y": null,
            "padding": null,
            "right": null,
            "top": null,
            "visibility": null,
            "width": null
          }
        },
        "7b4f9660c375478c9f75d8761edb339d": {
          "model_module": "@jupyter-widgets/controls",
          "model_name": "DescriptionStyleModel",
          "model_module_version": "1.5.0",
          "state": {
            "_model_module": "@jupyter-widgets/controls",
            "_model_module_version": "1.5.0",
            "_model_name": "DescriptionStyleModel",
            "_view_count": null,
            "_view_module": "@jupyter-widgets/base",
            "_view_module_version": "1.2.0",
            "_view_name": "StyleView",
            "description_width": ""
          }
        },
        "fb880a6cf1174af0bb7b8cd30f9b6921": {
          "model_module": "@jupyter-widgets/controls",
          "model_name": "DropdownModel",
          "model_module_version": "1.5.0",
          "state": {
            "_dom_classes": [],
            "_model_module": "@jupyter-widgets/controls",
            "_model_module_version": "1.5.0",
            "_model_name": "DropdownModel",
            "_options_labels": [
              "--",
              "Absent",
              "Less than 100 bpm",
              "Over 100 bpm"
            ],
            "_view_count": null,
            "_view_module": "@jupyter-widgets/controls",
            "_view_module_version": "1.5.0",
            "_view_name": "DropdownView",
            "description": "Pulse:",
            "description_tooltip": null,
            "disabled": false,
            "index": 2,
            "layout": "IPY_MODEL_d6cd176270304fb589762ae0b663b9ae",
            "style": "IPY_MODEL_d7f26750380f40d98f929decabaf0b97"
          }
        },
        "d6cd176270304fb589762ae0b663b9ae": {
          "model_module": "@jupyter-widgets/base",
          "model_name": "LayoutModel",
          "model_module_version": "1.2.0",
          "state": {
            "_model_module": "@jupyter-widgets/base",
            "_model_module_version": "1.2.0",
            "_model_name": "LayoutModel",
            "_view_count": null,
            "_view_module": "@jupyter-widgets/base",
            "_view_module_version": "1.2.0",
            "_view_name": "LayoutView",
            "align_content": null,
            "align_items": null,
            "align_self": null,
            "border": null,
            "bottom": null,
            "display": null,
            "flex": null,
            "flex_flow": null,
            "grid_area": null,
            "grid_auto_columns": null,
            "grid_auto_flow": null,
            "grid_auto_rows": null,
            "grid_column": null,
            "grid_gap": null,
            "grid_row": null,
            "grid_template_areas": null,
            "grid_template_columns": null,
            "grid_template_rows": null,
            "height": null,
            "justify_content": null,
            "justify_items": null,
            "left": null,
            "margin": null,
            "max_height": null,
            "max_width": null,
            "min_height": null,
            "min_width": null,
            "object_fit": null,
            "object_position": null,
            "order": null,
            "overflow": null,
            "overflow_x": null,
            "overflow_y": null,
            "padding": null,
            "right": null,
            "top": null,
            "visibility": null,
            "width": null
          }
        },
        "d7f26750380f40d98f929decabaf0b97": {
          "model_module": "@jupyter-widgets/controls",
          "model_name": "DescriptionStyleModel",
          "model_module_version": "1.5.0",
          "state": {
            "_model_module": "@jupyter-widgets/controls",
            "_model_module_version": "1.5.0",
            "_model_name": "DescriptionStyleModel",
            "_view_count": null,
            "_view_module": "@jupyter-widgets/base",
            "_view_module_version": "1.2.0",
            "_view_name": "StyleView",
            "description_width": ""
          }
        },
        "007fe0010c2f40f09e2ada1bdb515268": {
          "model_module": "@jupyter-widgets/controls",
          "model_name": "DropdownModel",
          "model_module_version": "1.5.0",
          "state": {
            "_dom_classes": [],
            "_model_module": "@jupyter-widgets/controls",
            "_model_module_version": "1.5.0",
            "_model_name": "DropdownModel",
            "_options_labels": [
              "--",
              "No response",
              "Grimace or weak cry",
              "Crying, pulling away, or coughing"
            ],
            "_view_count": null,
            "_view_module": "@jupyter-widgets/controls",
            "_view_module_version": "1.5.0",
            "_view_name": "DropdownView",
            "description": "Grimace Response:",
            "description_tooltip": null,
            "disabled": false,
            "index": 3,
            "layout": "IPY_MODEL_3eabb393d4774b92899019d12c91c828",
            "style": "IPY_MODEL_ecbe4ef8d2974ddd8ca89b2e14775ee1"
          }
        },
        "3eabb393d4774b92899019d12c91c828": {
          "model_module": "@jupyter-widgets/base",
          "model_name": "LayoutModel",
          "model_module_version": "1.2.0",
          "state": {
            "_model_module": "@jupyter-widgets/base",
            "_model_module_version": "1.2.0",
            "_model_name": "LayoutModel",
            "_view_count": null,
            "_view_module": "@jupyter-widgets/base",
            "_view_module_version": "1.2.0",
            "_view_name": "LayoutView",
            "align_content": null,
            "align_items": null,
            "align_self": null,
            "border": null,
            "bottom": null,
            "display": null,
            "flex": null,
            "flex_flow": null,
            "grid_area": null,
            "grid_auto_columns": null,
            "grid_auto_flow": null,
            "grid_auto_rows": null,
            "grid_column": null,
            "grid_gap": null,
            "grid_row": null,
            "grid_template_areas": null,
            "grid_template_columns": null,
            "grid_template_rows": null,
            "height": null,
            "justify_content": null,
            "justify_items": null,
            "left": null,
            "margin": null,
            "max_height": null,
            "max_width": null,
            "min_height": null,
            "min_width": null,
            "object_fit": null,
            "object_position": null,
            "order": null,
            "overflow": null,
            "overflow_x": null,
            "overflow_y": null,
            "padding": null,
            "right": null,
            "top": null,
            "visibility": null,
            "width": null
          }
        },
        "ecbe4ef8d2974ddd8ca89b2e14775ee1": {
          "model_module": "@jupyter-widgets/controls",
          "model_name": "DescriptionStyleModel",
          "model_module_version": "1.5.0",
          "state": {
            "_model_module": "@jupyter-widgets/controls",
            "_model_module_version": "1.5.0",
            "_model_name": "DescriptionStyleModel",
            "_view_count": null,
            "_view_module": "@jupyter-widgets/base",
            "_view_module_version": "1.2.0",
            "_view_name": "StyleView",
            "description_width": ""
          }
        },
        "febaea5fe06b46c6afc909ddf5feb4e6": {
          "model_module": "@jupyter-widgets/controls",
          "model_name": "DropdownModel",
          "model_module_version": "1.5.0",
          "state": {
            "_dom_classes": [],
            "_model_module": "@jupyter-widgets/controls",
            "_model_module_version": "1.5.0",
            "_model_name": "DropdownModel",
            "_options_labels": [
              "--",
              "Limp, no movement",
              "Some flexion of arms and legs",
              "Active motion"
            ],
            "_view_count": null,
            "_view_module": "@jupyter-widgets/controls",
            "_view_module_version": "1.5.0",
            "_view_name": "DropdownView",
            "description": "Activity:",
            "description_tooltip": null,
            "disabled": false,
            "index": 2,
            "layout": "IPY_MODEL_0d532f9a00dc40508d84c9f1f93c1bcd",
            "style": "IPY_MODEL_3e6b57e8c86548d88303e5f720dd484e"
          }
        },
        "0d532f9a00dc40508d84c9f1f93c1bcd": {
          "model_module": "@jupyter-widgets/base",
          "model_name": "LayoutModel",
          "model_module_version": "1.2.0",
          "state": {
            "_model_module": "@jupyter-widgets/base",
            "_model_module_version": "1.2.0",
            "_model_name": "LayoutModel",
            "_view_count": null,
            "_view_module": "@jupyter-widgets/base",
            "_view_module_version": "1.2.0",
            "_view_name": "LayoutView",
            "align_content": null,
            "align_items": null,
            "align_self": null,
            "border": null,
            "bottom": null,
            "display": null,
            "flex": null,
            "flex_flow": null,
            "grid_area": null,
            "grid_auto_columns": null,
            "grid_auto_flow": null,
            "grid_auto_rows": null,
            "grid_column": null,
            "grid_gap": null,
            "grid_row": null,
            "grid_template_areas": null,
            "grid_template_columns": null,
            "grid_template_rows": null,
            "height": null,
            "justify_content": null,
            "justify_items": null,
            "left": null,
            "margin": null,
            "max_height": null,
            "max_width": null,
            "min_height": null,
            "min_width": null,
            "object_fit": null,
            "object_position": null,
            "order": null,
            "overflow": null,
            "overflow_x": null,
            "overflow_y": null,
            "padding": null,
            "right": null,
            "top": null,
            "visibility": null,
            "width": null
          }
        },
        "3e6b57e8c86548d88303e5f720dd484e": {
          "model_module": "@jupyter-widgets/controls",
          "model_name": "DescriptionStyleModel",
          "model_module_version": "1.5.0",
          "state": {
            "_model_module": "@jupyter-widgets/controls",
            "_model_module_version": "1.5.0",
            "_model_name": "DescriptionStyleModel",
            "_view_count": null,
            "_view_module": "@jupyter-widgets/base",
            "_view_module_version": "1.2.0",
            "_view_name": "StyleView",
            "description_width": ""
          }
        },
        "8b5e68850fd6417ab05f243e4ab7fbb2": {
          "model_module": "@jupyter-widgets/controls",
          "model_name": "DropdownModel",
          "model_module_version": "1.5.0",
          "state": {
            "_dom_classes": [],
            "_model_module": "@jupyter-widgets/controls",
            "_model_module_version": "1.5.0",
            "_model_name": "DropdownModel",
            "_options_labels": [
              "--",
              "Absent",
              "Slow or irregular",
              "Good, crying"
            ],
            "_view_count": null,
            "_view_module": "@jupyter-widgets/controls",
            "_view_module_version": "1.5.0",
            "_view_name": "DropdownView",
            "description": "Respiration:",
            "description_tooltip": null,
            "disabled": false,
            "index": 3,
            "layout": "IPY_MODEL_37791dda6b0943fa90b4b1c53a0f135f",
            "style": "IPY_MODEL_534b2ec17de54c7aa0f90522a1b59f1f"
          }
        },
        "37791dda6b0943fa90b4b1c53a0f135f": {
          "model_module": "@jupyter-widgets/base",
          "model_name": "LayoutModel",
          "model_module_version": "1.2.0",
          "state": {
            "_model_module": "@jupyter-widgets/base",
            "_model_module_version": "1.2.0",
            "_model_name": "LayoutModel",
            "_view_count": null,
            "_view_module": "@jupyter-widgets/base",
            "_view_module_version": "1.2.0",
            "_view_name": "LayoutView",
            "align_content": null,
            "align_items": null,
            "align_self": null,
            "border": null,
            "bottom": null,
            "display": null,
            "flex": null,
            "flex_flow": null,
            "grid_area": null,
            "grid_auto_columns": null,
            "grid_auto_flow": null,
            "grid_auto_rows": null,
            "grid_column": null,
            "grid_gap": null,
            "grid_row": null,
            "grid_template_areas": null,
            "grid_template_columns": null,
            "grid_template_rows": null,
            "height": null,
            "justify_content": null,
            "justify_items": null,
            "left": null,
            "margin": null,
            "max_height": null,
            "max_width": null,
            "min_height": null,
            "min_width": null,
            "object_fit": null,
            "object_position": null,
            "order": null,
            "overflow": null,
            "overflow_x": null,
            "overflow_y": null,
            "padding": null,
            "right": null,
            "top": null,
            "visibility": null,
            "width": null
          }
        },
        "534b2ec17de54c7aa0f90522a1b59f1f": {
          "model_module": "@jupyter-widgets/controls",
          "model_name": "DescriptionStyleModel",
          "model_module_version": "1.5.0",
          "state": {
            "_model_module": "@jupyter-widgets/controls",
            "_model_module_version": "1.5.0",
            "_model_name": "DescriptionStyleModel",
            "_view_count": null,
            "_view_module": "@jupyter-widgets/base",
            "_view_module_version": "1.2.0",
            "_view_name": "StyleView",
            "description_width": ""
          }
        },
        "ee94de3bc7694c588efcc802ae67c8c3": {
          "model_module": "@jupyter-widgets/controls",
          "model_name": "ButtonModel",
          "model_module_version": "1.5.0",
          "state": {
            "_dom_classes": [],
            "_model_module": "@jupyter-widgets/controls",
            "_model_module_version": "1.5.0",
            "_model_name": "ButtonModel",
            "_view_count": null,
            "_view_module": "@jupyter-widgets/controls",
            "_view_module_version": "1.5.0",
            "_view_name": "ButtonView",
            "button_style": "success",
            "description": "Calculate APGAR Score",
            "disabled": false,
            "icon": "",
            "layout": "IPY_MODEL_2d055b95bc8c428fa3fc4da5984bf1e1",
            "style": "IPY_MODEL_245dca50f275420380245bdceee36536",
            "tooltip": ""
          }
        },
        "2d055b95bc8c428fa3fc4da5984bf1e1": {
          "model_module": "@jupyter-widgets/base",
          "model_name": "LayoutModel",
          "model_module_version": "1.2.0",
          "state": {
            "_model_module": "@jupyter-widgets/base",
            "_model_module_version": "1.2.0",
            "_model_name": "LayoutModel",
            "_view_count": null,
            "_view_module": "@jupyter-widgets/base",
            "_view_module_version": "1.2.0",
            "_view_name": "LayoutView",
            "align_content": null,
            "align_items": null,
            "align_self": null,
            "border": null,
            "bottom": null,
            "display": null,
            "flex": null,
            "flex_flow": null,
            "grid_area": null,
            "grid_auto_columns": null,
            "grid_auto_flow": null,
            "grid_auto_rows": null,
            "grid_column": null,
            "grid_gap": null,
            "grid_row": null,
            "grid_template_areas": null,
            "grid_template_columns": null,
            "grid_template_rows": null,
            "height": null,
            "justify_content": null,
            "justify_items": null,
            "left": null,
            "margin": null,
            "max_height": null,
            "max_width": null,
            "min_height": null,
            "min_width": null,
            "object_fit": null,
            "object_position": null,
            "order": null,
            "overflow": null,
            "overflow_x": null,
            "overflow_y": null,
            "padding": null,
            "right": null,
            "top": null,
            "visibility": null,
            "width": null
          }
        },
        "245dca50f275420380245bdceee36536": {
          "model_module": "@jupyter-widgets/controls",
          "model_name": "ButtonStyleModel",
          "model_module_version": "1.5.0",
          "state": {
            "_model_module": "@jupyter-widgets/controls",
            "_model_module_version": "1.5.0",
            "_model_name": "ButtonStyleModel",
            "_view_count": null,
            "_view_module": "@jupyter-widgets/base",
            "_view_module_version": "1.2.0",
            "_view_name": "StyleView",
            "button_color": null,
            "font_weight": ""
          }
        },
        "07db12df6f18466795905acde05bc2cf": {
          "model_module": "@jupyter-widgets/output",
          "model_name": "OutputModel",
          "model_module_version": "1.0.0",
          "state": {
            "_dom_classes": [],
            "_model_module": "@jupyter-widgets/output",
            "_model_module_version": "1.0.0",
            "_model_name": "OutputModel",
            "_view_count": null,
            "_view_module": "@jupyter-widgets/output",
            "_view_module_version": "1.0.0",
            "_view_name": "OutputView",
            "layout": "IPY_MODEL_dd698db594ef485eab3094cc941f8b3d",
            "msg_id": "",
            "outputs": [
              {
                "output_type": "display_data",
                "data": {
                  "text/plain": "<IPython.core.display.HTML object>",
                  "text/html": "<h3 style='color:green'>Total APGAR Score: 6/10</h3>"
                },
                "metadata": {}
              },
              {
                "output_type": "display_data",
                "data": {
                  "text/plain": "<IPython.core.display.HTML object>",
                  "text/html": "<h4 style='color:orange'> Caution: Close observation and possible intervention.</h4>"
                },
                "metadata": {}
              },
              {
                "output_type": "display_data",
                "data": {
                  "text/plain": "<IPython.core.display.HTML object>",
                  "text/html": "\n                <ul>\n                    <li>Provide respiratory or thermal support if needed</li>\n                    <li>Monitor vitals closely</li>\n                    <li><strong>Monitoring Frequency:</strong> Every 15 minutes for 1 hour</li>\n                    <li><strong>Follow-up:</strong> Reassess APGAR at 10 minutes; re-evaluate at 1–2 hours</li>\n                </ul>\n            "
                },
                "metadata": {}
              }
            ]
          }
        },
        "dd698db594ef485eab3094cc941f8b3d": {
          "model_module": "@jupyter-widgets/base",
          "model_name": "LayoutModel",
          "model_module_version": "1.2.0",
          "state": {
            "_model_module": "@jupyter-widgets/base",
            "_model_module_version": "1.2.0",
            "_model_name": "LayoutModel",
            "_view_count": null,
            "_view_module": "@jupyter-widgets/base",
            "_view_module_version": "1.2.0",
            "_view_name": "LayoutView",
            "align_content": null,
            "align_items": null,
            "align_self": null,
            "border": null,
            "bottom": null,
            "display": null,
            "flex": null,
            "flex_flow": null,
            "grid_area": null,
            "grid_auto_columns": null,
            "grid_auto_flow": null,
            "grid_auto_rows": null,
            "grid_column": null,
            "grid_gap": null,
            "grid_row": null,
            "grid_template_areas": null,
            "grid_template_columns": null,
            "grid_template_rows": null,
            "height": null,
            "justify_content": null,
            "justify_items": null,
            "left": null,
            "margin": null,
            "max_height": null,
            "max_width": null,
            "min_height": null,
            "min_width": null,
            "object_fit": null,
            "object_position": null,
            "order": null,
            "overflow": null,
            "overflow_x": null,
            "overflow_y": null,
            "padding": null,
            "right": null,
            "top": null,
            "visibility": null,
            "width": null
          }
        },
        "1e9e648cc77442eb8b0a88a9bd0797ec": {
          "model_module": "@jupyter-widgets/controls",
          "model_name": "DropdownModel",
          "model_module_version": "1.5.0",
          "state": {
            "_dom_classes": [],
            "_model_module": "@jupyter-widgets/controls",
            "_model_module_version": "1.5.0",
            "_model_name": "DropdownModel",
            "_options_labels": [
              "-- Select --",
              "Male",
              "Female"
            ],
            "_view_count": null,
            "_view_module": "@jupyter-widgets/controls",
            "_view_module_version": "1.5.0",
            "_view_name": "DropdownView",
            "description": "Gender:",
            "description_tooltip": null,
            "disabled": false,
            "index": 1,
            "layout": "IPY_MODEL_4124d8ece1b241f7bfbf85db622f8b46",
            "style": "IPY_MODEL_349a3aca4a574d84a6134101564f535e"
          }
        },
        "4124d8ece1b241f7bfbf85db622f8b46": {
          "model_module": "@jupyter-widgets/base",
          "model_name": "LayoutModel",
          "model_module_version": "1.2.0",
          "state": {
            "_model_module": "@jupyter-widgets/base",
            "_model_module_version": "1.2.0",
            "_model_name": "LayoutModel",
            "_view_count": null,
            "_view_module": "@jupyter-widgets/base",
            "_view_module_version": "1.2.0",
            "_view_name": "LayoutView",
            "align_content": null,
            "align_items": null,
            "align_self": null,
            "border": null,
            "bottom": null,
            "display": null,
            "flex": null,
            "flex_flow": null,
            "grid_area": null,
            "grid_auto_columns": null,
            "grid_auto_flow": null,
            "grid_auto_rows": null,
            "grid_column": null,
            "grid_gap": null,
            "grid_row": null,
            "grid_template_areas": null,
            "grid_template_columns": null,
            "grid_template_rows": null,
            "height": null,
            "justify_content": null,
            "justify_items": null,
            "left": null,
            "margin": null,
            "max_height": null,
            "max_width": null,
            "min_height": null,
            "min_width": null,
            "object_fit": null,
            "object_position": null,
            "order": null,
            "overflow": null,
            "overflow_x": null,
            "overflow_y": null,
            "padding": null,
            "right": null,
            "top": null,
            "visibility": null,
            "width": null
          }
        },
        "349a3aca4a574d84a6134101564f535e": {
          "model_module": "@jupyter-widgets/controls",
          "model_name": "DescriptionStyleModel",
          "model_module_version": "1.5.0",
          "state": {
            "_model_module": "@jupyter-widgets/controls",
            "_model_module_version": "1.5.0",
            "_model_name": "DescriptionStyleModel",
            "_view_count": null,
            "_view_module": "@jupyter-widgets/base",
            "_view_module_version": "1.2.0",
            "_view_name": "StyleView",
            "description_width": ""
          }
        },
        "b9b5e7193e7c4509b51314a3c58fb799": {
          "model_module": "@jupyter-widgets/controls",
          "model_name": "DropdownModel",
          "model_module_version": "1.5.0",
          "state": {
            "_dom_classes": [],
            "_model_module": "@jupyter-widgets/controls",
            "_model_module_version": "1.5.0",
            "_model_name": "DropdownModel",
            "_options_labels": [
              "-- Select --",
              "SVD",
              "C-section"
            ],
            "_view_count": null,
            "_view_module": "@jupyter-widgets/controls",
            "_view_module_version": "1.5.0",
            "_view_name": "DropdownView",
            "description": "Mode of Delivery:",
            "description_tooltip": null,
            "disabled": false,
            "index": 1,
            "layout": "IPY_MODEL_65de3958ebc2408bbc38f75d6116e07b",
            "style": "IPY_MODEL_1f67fce6cbab4bcda4727d97778a1a84"
          }
        },
        "65de3958ebc2408bbc38f75d6116e07b": {
          "model_module": "@jupyter-widgets/base",
          "model_name": "LayoutModel",
          "model_module_version": "1.2.0",
          "state": {
            "_model_module": "@jupyter-widgets/base",
            "_model_module_version": "1.2.0",
            "_model_name": "LayoutModel",
            "_view_count": null,
            "_view_module": "@jupyter-widgets/base",
            "_view_module_version": "1.2.0",
            "_view_name": "LayoutView",
            "align_content": null,
            "align_items": null,
            "align_self": null,
            "border": null,
            "bottom": null,
            "display": null,
            "flex": null,
            "flex_flow": null,
            "grid_area": null,
            "grid_auto_columns": null,
            "grid_auto_flow": null,
            "grid_auto_rows": null,
            "grid_column": null,
            "grid_gap": null,
            "grid_row": null,
            "grid_template_areas": null,
            "grid_template_columns": null,
            "grid_template_rows": null,
            "height": null,
            "justify_content": null,
            "justify_items": null,
            "left": null,
            "margin": null,
            "max_height": null,
            "max_width": null,
            "min_height": null,
            "min_width": null,
            "object_fit": null,
            "object_position": null,
            "order": null,
            "overflow": null,
            "overflow_x": null,
            "overflow_y": null,
            "padding": null,
            "right": null,
            "top": null,
            "visibility": null,
            "width": null
          }
        },
        "1f67fce6cbab4bcda4727d97778a1a84": {
          "model_module": "@jupyter-widgets/controls",
          "model_name": "DescriptionStyleModel",
          "model_module_version": "1.5.0",
          "state": {
            "_model_module": "@jupyter-widgets/controls",
            "_model_module_version": "1.5.0",
            "_model_name": "DescriptionStyleModel",
            "_view_count": null,
            "_view_module": "@jupyter-widgets/base",
            "_view_module_version": "1.2.0",
            "_view_name": "StyleView",
            "description_width": ""
          }
        },
        "7681efd95ec24699994c1ea4bb17e1bb": {
          "model_module": "@jupyter-widgets/controls",
          "model_name": "DropdownModel",
          "model_module_version": "1.5.0",
          "state": {
            "_dom_classes": [],
            "_model_module": "@jupyter-widgets/controls",
            "_model_module_version": "1.5.0",
            "_model_name": "DropdownModel",
            "_options_labels": [
              "-- Select --",
              "Not needed",
              "Only oxygen",
              "PPV"
            ],
            "_view_count": null,
            "_view_module": "@jupyter-widgets/controls",
            "_view_module_version": "1.5.0",
            "_view_name": "DropdownView",
            "description": "Resuscitation:",
            "description_tooltip": null,
            "disabled": false,
            "index": 2,
            "layout": "IPY_MODEL_f6fd642bedff4f78979f1e17041ca56e",
            "style": "IPY_MODEL_429047a54e1a4f4ebe666a87f837a81a"
          }
        },
        "f6fd642bedff4f78979f1e17041ca56e": {
          "model_module": "@jupyter-widgets/base",
          "model_name": "LayoutModel",
          "model_module_version": "1.2.0",
          "state": {
            "_model_module": "@jupyter-widgets/base",
            "_model_module_version": "1.2.0",
            "_model_name": "LayoutModel",
            "_view_count": null,
            "_view_module": "@jupyter-widgets/base",
            "_view_module_version": "1.2.0",
            "_view_name": "LayoutView",
            "align_content": null,
            "align_items": null,
            "align_self": null,
            "border": null,
            "bottom": null,
            "display": null,
            "flex": null,
            "flex_flow": null,
            "grid_area": null,
            "grid_auto_columns": null,
            "grid_auto_flow": null,
            "grid_auto_rows": null,
            "grid_column": null,
            "grid_gap": null,
            "grid_row": null,
            "grid_template_areas": null,
            "grid_template_columns": null,
            "grid_template_rows": null,
            "height": null,
            "justify_content": null,
            "justify_items": null,
            "left": null,
            "margin": null,
            "max_height": null,
            "max_width": null,
            "min_height": null,
            "min_width": null,
            "object_fit": null,
            "object_position": null,
            "order": null,
            "overflow": null,
            "overflow_x": null,
            "overflow_y": null,
            "padding": null,
            "right": null,
            "top": null,
            "visibility": null,
            "width": null
          }
        },
        "429047a54e1a4f4ebe666a87f837a81a": {
          "model_module": "@jupyter-widgets/controls",
          "model_name": "DescriptionStyleModel",
          "model_module_version": "1.5.0",
          "state": {
            "_model_module": "@jupyter-widgets/controls",
            "_model_module_version": "1.5.0",
            "_model_name": "DescriptionStyleModel",
            "_view_count": null,
            "_view_module": "@jupyter-widgets/base",
            "_view_module_version": "1.2.0",
            "_view_name": "StyleView",
            "description_width": ""
          }
        },
        "94ee30e357d2455a9084c948abbb1364": {
          "model_module": "@jupyter-widgets/controls",
          "model_name": "DropdownModel",
          "model_module_version": "1.5.0",
          "state": {
            "_dom_classes": [],
            "_model_module": "@jupyter-widgets/controls",
            "_model_module_version": "1.5.0",
            "_model_name": "DropdownModel",
            "_options_labels": [
              "-- Select --",
              "Yes",
              "No"
            ],
            "_view_count": null,
            "_view_module": "@jupyter-widgets/controls",
            "_view_module_version": "1.5.0",
            "_view_name": "DropdownView",
            "description": "Fetal Distress:",
            "description_tooltip": null,
            "disabled": false,
            "index": 2,
            "layout": "IPY_MODEL_830a975c6aee499bae1b968685397e66",
            "style": "IPY_MODEL_3eebf37b0e844bc89ab50961c15317ff"
          }
        },
        "830a975c6aee499bae1b968685397e66": {
          "model_module": "@jupyter-widgets/base",
          "model_name": "LayoutModel",
          "model_module_version": "1.2.0",
          "state": {
            "_model_module": "@jupyter-widgets/base",
            "_model_module_version": "1.2.0",
            "_model_name": "LayoutModel",
            "_view_count": null,
            "_view_module": "@jupyter-widgets/base",
            "_view_module_version": "1.2.0",
            "_view_name": "LayoutView",
            "align_content": null,
            "align_items": null,
            "align_self": null,
            "border": null,
            "bottom": null,
            "display": null,
            "flex": null,
            "flex_flow": null,
            "grid_area": null,
            "grid_auto_columns": null,
            "grid_auto_flow": null,
            "grid_auto_rows": null,
            "grid_column": null,
            "grid_gap": null,
            "grid_row": null,
            "grid_template_areas": null,
            "grid_template_columns": null,
            "grid_template_rows": null,
            "height": null,
            "justify_content": null,
            "justify_items": null,
            "left": null,
            "margin": null,
            "max_height": null,
            "max_width": null,
            "min_height": null,
            "min_width": null,
            "object_fit": null,
            "object_position": null,
            "order": null,
            "overflow": null,
            "overflow_x": null,
            "overflow_y": null,
            "padding": null,
            "right": null,
            "top": null,
            "visibility": null,
            "width": null
          }
        },
        "3eebf37b0e844bc89ab50961c15317ff": {
          "model_module": "@jupyter-widgets/controls",
          "model_name": "DescriptionStyleModel",
          "model_module_version": "1.5.0",
          "state": {
            "_model_module": "@jupyter-widgets/controls",
            "_model_module_version": "1.5.0",
            "_model_name": "DescriptionStyleModel",
            "_view_count": null,
            "_view_module": "@jupyter-widgets/base",
            "_view_module_version": "1.2.0",
            "_view_name": "StyleView",
            "description_width": ""
          }
        },
        "ccc9ba7540f2475697ba4a71d2ffeba1": {
          "model_module": "@jupyter-widgets/controls",
          "model_name": "DropdownModel",
          "model_module_version": "1.5.0",
          "state": {
            "_dom_classes": [],
            "_model_module": "@jupyter-widgets/controls",
            "_model_module_version": "1.5.0",
            "_model_name": "DropdownModel",
            "_options_labels": [
              "-- Select --",
              "Yes",
              "No"
            ],
            "_view_count": null,
            "_view_module": "@jupyter-widgets/controls",
            "_view_module_version": "1.5.0",
            "_view_name": "DropdownView",
            "description": "Birth Asphyxia:",
            "description_tooltip": null,
            "disabled": false,
            "index": 1,
            "layout": "IPY_MODEL_2f8d22bbe8dd470084e713af03625a46",
            "style": "IPY_MODEL_49f2080aa40642d2921b9b0a760b4607"
          }
        },
        "2f8d22bbe8dd470084e713af03625a46": {
          "model_module": "@jupyter-widgets/base",
          "model_name": "LayoutModel",
          "model_module_version": "1.2.0",
          "state": {
            "_model_module": "@jupyter-widgets/base",
            "_model_module_version": "1.2.0",
            "_model_name": "LayoutModel",
            "_view_count": null,
            "_view_module": "@jupyter-widgets/base",
            "_view_module_version": "1.2.0",
            "_view_name": "LayoutView",
            "align_content": null,
            "align_items": null,
            "align_self": null,
            "border": null,
            "bottom": null,
            "display": null,
            "flex": null,
            "flex_flow": null,
            "grid_area": null,
            "grid_auto_columns": null,
            "grid_auto_flow": null,
            "grid_auto_rows": null,
            "grid_column": null,
            "grid_gap": null,
            "grid_row": null,
            "grid_template_areas": null,
            "grid_template_columns": null,
            "grid_template_rows": null,
            "height": null,
            "justify_content": null,
            "justify_items": null,
            "left": null,
            "margin": null,
            "max_height": null,
            "max_width": null,
            "min_height": null,
            "min_width": null,
            "object_fit": null,
            "object_position": null,
            "order": null,
            "overflow": null,
            "overflow_x": null,
            "overflow_y": null,
            "padding": null,
            "right": null,
            "top": null,
            "visibility": null,
            "width": null
          }
        },
        "49f2080aa40642d2921b9b0a760b4607": {
          "model_module": "@jupyter-widgets/controls",
          "model_name": "DescriptionStyleModel",
          "model_module_version": "1.5.0",
          "state": {
            "_model_module": "@jupyter-widgets/controls",
            "_model_module_version": "1.5.0",
            "_model_name": "DescriptionStyleModel",
            "_view_count": null,
            "_view_module": "@jupyter-widgets/base",
            "_view_module_version": "1.2.0",
            "_view_name": "StyleView",
            "description_width": ""
          }
        },
        "27fdd23f6ba249b487bbad62a29f2aec": {
          "model_module": "@jupyter-widgets/controls",
          "model_name": "DropdownModel",
          "model_module_version": "1.5.0",
          "state": {
            "_dom_classes": [],
            "_model_module": "@jupyter-widgets/controls",
            "_model_module_version": "1.5.0",
            "_model_name": "DropdownModel",
            "_options_labels": [
              "-- Select --",
              "None",
              "MAS",
              "RDS"
            ],
            "_view_count": null,
            "_view_module": "@jupyter-widgets/controls",
            "_view_module_version": "1.5.0",
            "_view_name": "DropdownView",
            "description": "Lung Disorder:",
            "description_tooltip": null,
            "disabled": false,
            "index": 1,
            "layout": "IPY_MODEL_23d18ac0c5e54d2dbf8f69fd011e1a28",
            "style": "IPY_MODEL_ce8d83440f0444c4a15503d5f9203f3d"
          }
        },
        "23d18ac0c5e54d2dbf8f69fd011e1a28": {
          "model_module": "@jupyter-widgets/base",
          "model_name": "LayoutModel",
          "model_module_version": "1.2.0",
          "state": {
            "_model_module": "@jupyter-widgets/base",
            "_model_module_version": "1.2.0",
            "_model_name": "LayoutModel",
            "_view_count": null,
            "_view_module": "@jupyter-widgets/base",
            "_view_module_version": "1.2.0",
            "_view_name": "LayoutView",
            "align_content": null,
            "align_items": null,
            "align_self": null,
            "border": null,
            "bottom": null,
            "display": null,
            "flex": null,
            "flex_flow": null,
            "grid_area": null,
            "grid_auto_columns": null,
            "grid_auto_flow": null,
            "grid_auto_rows": null,
            "grid_column": null,
            "grid_gap": null,
            "grid_row": null,
            "grid_template_areas": null,
            "grid_template_columns": null,
            "grid_template_rows": null,
            "height": null,
            "justify_content": null,
            "justify_items": null,
            "left": null,
            "margin": null,
            "max_height": null,
            "max_width": null,
            "min_height": null,
            "min_width": null,
            "object_fit": null,
            "object_position": null,
            "order": null,
            "overflow": null,
            "overflow_x": null,
            "overflow_y": null,
            "padding": null,
            "right": null,
            "top": null,
            "visibility": null,
            "width": null
          }
        },
        "ce8d83440f0444c4a15503d5f9203f3d": {
          "model_module": "@jupyter-widgets/controls",
          "model_name": "DescriptionStyleModel",
          "model_module_version": "1.5.0",
          "state": {
            "_model_module": "@jupyter-widgets/controls",
            "_model_module_version": "1.5.0",
            "_model_name": "DescriptionStyleModel",
            "_view_count": null,
            "_view_module": "@jupyter-widgets/base",
            "_view_module_version": "1.2.0",
            "_view_name": "StyleView",
            "description_width": ""
          }
        },
        "0d74362d7415480fa94f661ea6fee216": {
          "model_module": "@jupyter-widgets/controls",
          "model_name": "DropdownModel",
          "model_module_version": "1.5.0",
          "state": {
            "_dom_classes": [],
            "_model_module": "@jupyter-widgets/controls",
            "_model_module_version": "1.5.0",
            "_model_name": "DropdownModel",
            "_options_labels": [
              "-- Select --",
              "Yes",
              "No"
            ],
            "_view_count": null,
            "_view_module": "@jupyter-widgets/controls",
            "_view_module_version": "1.5.0",
            "_view_name": "DropdownView",
            "description": "Sepsis:",
            "description_tooltip": null,
            "disabled": false,
            "index": 2,
            "layout": "IPY_MODEL_ff1aa7bbe18f48078571b7d9728694e7",
            "style": "IPY_MODEL_82bf56d6da294bc998c72e2eeedf0d93"
          }
        },
        "ff1aa7bbe18f48078571b7d9728694e7": {
          "model_module": "@jupyter-widgets/base",
          "model_name": "LayoutModel",
          "model_module_version": "1.2.0",
          "state": {
            "_model_module": "@jupyter-widgets/base",
            "_model_module_version": "1.2.0",
            "_model_name": "LayoutModel",
            "_view_count": null,
            "_view_module": "@jupyter-widgets/base",
            "_view_module_version": "1.2.0",
            "_view_name": "LayoutView",
            "align_content": null,
            "align_items": null,
            "align_self": null,
            "border": null,
            "bottom": null,
            "display": null,
            "flex": null,
            "flex_flow": null,
            "grid_area": null,
            "grid_auto_columns": null,
            "grid_auto_flow": null,
            "grid_auto_rows": null,
            "grid_column": null,
            "grid_gap": null,
            "grid_row": null,
            "grid_template_areas": null,
            "grid_template_columns": null,
            "grid_template_rows": null,
            "height": null,
            "justify_content": null,
            "justify_items": null,
            "left": null,
            "margin": null,
            "max_height": null,
            "max_width": null,
            "min_height": null,
            "min_width": null,
            "object_fit": null,
            "object_position": null,
            "order": null,
            "overflow": null,
            "overflow_x": null,
            "overflow_y": null,
            "padding": null,
            "right": null,
            "top": null,
            "visibility": null,
            "width": null
          }
        },
        "82bf56d6da294bc998c72e2eeedf0d93": {
          "model_module": "@jupyter-widgets/controls",
          "model_name": "DescriptionStyleModel",
          "model_module_version": "1.5.0",
          "state": {
            "_model_module": "@jupyter-widgets/controls",
            "_model_module_version": "1.5.0",
            "_model_name": "DescriptionStyleModel",
            "_view_count": null,
            "_view_module": "@jupyter-widgets/base",
            "_view_module_version": "1.2.0",
            "_view_name": "StyleView",
            "description_width": ""
          }
        },
        "e04679ac55054ad6a45765c6d96409a5": {
          "model_module": "@jupyter-widgets/controls",
          "model_name": "DropdownModel",
          "model_module_version": "1.5.0",
          "state": {
            "_dom_classes": [],
            "_model_module": "@jupyter-widgets/controls",
            "_model_module_version": "1.5.0",
            "_model_name": "DropdownModel",
            "_options_labels": [
              "-- Select --",
              "Mild",
              "Moderate",
              "Severe"
            ],
            "_view_count": null,
            "_view_module": "@jupyter-widgets/controls",
            "_view_module_version": "1.5.0",
            "_view_name": "DropdownView",
            "description": "PPHN Severity:",
            "description_tooltip": null,
            "disabled": false,
            "index": 2,
            "layout": "IPY_MODEL_63c9c6bf19d648e28ed21bb7460210e1",
            "style": "IPY_MODEL_f7935f259fbf40db963afa029010f345"
          }
        },
        "63c9c6bf19d648e28ed21bb7460210e1": {
          "model_module": "@jupyter-widgets/base",
          "model_name": "LayoutModel",
          "model_module_version": "1.2.0",
          "state": {
            "_model_module": "@jupyter-widgets/base",
            "_model_module_version": "1.2.0",
            "_model_name": "LayoutModel",
            "_view_count": null,
            "_view_module": "@jupyter-widgets/base",
            "_view_module_version": "1.2.0",
            "_view_name": "LayoutView",
            "align_content": null,
            "align_items": null,
            "align_self": null,
            "border": null,
            "bottom": null,
            "display": null,
            "flex": null,
            "flex_flow": null,
            "grid_area": null,
            "grid_auto_columns": null,
            "grid_auto_flow": null,
            "grid_auto_rows": null,
            "grid_column": null,
            "grid_gap": null,
            "grid_row": null,
            "grid_template_areas": null,
            "grid_template_columns": null,
            "grid_template_rows": null,
            "height": null,
            "justify_content": null,
            "justify_items": null,
            "left": null,
            "margin": null,
            "max_height": null,
            "max_width": null,
            "min_height": null,
            "min_width": null,
            "object_fit": null,
            "object_position": null,
            "order": null,
            "overflow": null,
            "overflow_x": null,
            "overflow_y": null,
            "padding": null,
            "right": null,
            "top": null,
            "visibility": null,
            "width": null
          }
        },
        "f7935f259fbf40db963afa029010f345": {
          "model_module": "@jupyter-widgets/controls",
          "model_name": "DescriptionStyleModel",
          "model_module_version": "1.5.0",
          "state": {
            "_model_module": "@jupyter-widgets/controls",
            "_model_module_version": "1.5.0",
            "_model_name": "DescriptionStyleModel",
            "_view_count": null,
            "_view_module": "@jupyter-widgets/base",
            "_view_module_version": "1.2.0",
            "_view_name": "StyleView",
            "description_width": ""
          }
        },
        "01d054f8e3a74d14abdeae582c3c566f": {
          "model_module": "@jupyter-widgets/controls",
          "model_name": "DropdownModel",
          "model_module_version": "1.5.0",
          "state": {
            "_dom_classes": [],
            "_model_module": "@jupyter-widgets/controls",
            "_model_module_version": "1.5.0",
            "_model_name": "DropdownModel",
            "_options_labels": [
              "-- Select --",
              "Oxygen with mask",
              "CPAP",
              "IMV"
            ],
            "_view_count": null,
            "_view_module": "@jupyter-widgets/controls",
            "_view_module_version": "1.5.0",
            "_view_name": "DropdownView",
            "description": "Respiratory Support:",
            "description_tooltip": null,
            "disabled": false,
            "index": 1,
            "layout": "IPY_MODEL_836f8d546a8f45398e3fcece74d42092",
            "style": "IPY_MODEL_e23de80c9f0147728572e1ac7d848200"
          }
        },
        "836f8d546a8f45398e3fcece74d42092": {
          "model_module": "@jupyter-widgets/base",
          "model_name": "LayoutModel",
          "model_module_version": "1.2.0",
          "state": {
            "_model_module": "@jupyter-widgets/base",
            "_model_module_version": "1.2.0",
            "_model_name": "LayoutModel",
            "_view_count": null,
            "_view_module": "@jupyter-widgets/base",
            "_view_module_version": "1.2.0",
            "_view_name": "LayoutView",
            "align_content": null,
            "align_items": null,
            "align_self": null,
            "border": null,
            "bottom": null,
            "display": null,
            "flex": null,
            "flex_flow": null,
            "grid_area": null,
            "grid_auto_columns": null,
            "grid_auto_flow": null,
            "grid_auto_rows": null,
            "grid_column": null,
            "grid_gap": null,
            "grid_row": null,
            "grid_template_areas": null,
            "grid_template_columns": null,
            "grid_template_rows": null,
            "height": null,
            "justify_content": null,
            "justify_items": null,
            "left": null,
            "margin": null,
            "max_height": null,
            "max_width": null,
            "min_height": null,
            "min_width": null,
            "object_fit": null,
            "object_position": null,
            "order": null,
            "overflow": null,
            "overflow_x": null,
            "overflow_y": null,
            "padding": null,
            "right": null,
            "top": null,
            "visibility": null,
            "width": null
          }
        },
        "e23de80c9f0147728572e1ac7d848200": {
          "model_module": "@jupyter-widgets/controls",
          "model_name": "DescriptionStyleModel",
          "model_module_version": "1.5.0",
          "state": {
            "_model_module": "@jupyter-widgets/controls",
            "_model_module_version": "1.5.0",
            "_model_name": "DescriptionStyleModel",
            "_view_count": null,
            "_view_module": "@jupyter-widgets/base",
            "_view_module_version": "1.2.0",
            "_view_name": "StyleView",
            "description_width": ""
          }
        },
        "d76f5e24998b43a2ba187241bacd4ff0": {
          "model_module": "@jupyter-widgets/controls",
          "model_name": "ButtonModel",
          "model_module_version": "1.5.0",
          "state": {
            "_dom_classes": [],
            "_model_module": "@jupyter-widgets/controls",
            "_model_module_version": "1.5.0",
            "_model_name": "ButtonModel",
            "_view_count": null,
            "_view_module": "@jupyter-widgets/controls",
            "_view_module_version": "1.5.0",
            "_view_name": "ButtonView",
            "button_style": "danger",
            "description": "Predict Mortality",
            "disabled": false,
            "icon": "",
            "layout": "IPY_MODEL_5d05dcd1b1574fc0ae596d038dfb04eb",
            "style": "IPY_MODEL_87b2362998734cd5b376eec51c79d37a",
            "tooltip": ""
          }
        },
        "5d05dcd1b1574fc0ae596d038dfb04eb": {
          "model_module": "@jupyter-widgets/base",
          "model_name": "LayoutModel",
          "model_module_version": "1.2.0",
          "state": {
            "_model_module": "@jupyter-widgets/base",
            "_model_module_version": "1.2.0",
            "_model_name": "LayoutModel",
            "_view_count": null,
            "_view_module": "@jupyter-widgets/base",
            "_view_module_version": "1.2.0",
            "_view_name": "LayoutView",
            "align_content": null,
            "align_items": null,
            "align_self": null,
            "border": null,
            "bottom": null,
            "display": null,
            "flex": null,
            "flex_flow": null,
            "grid_area": null,
            "grid_auto_columns": null,
            "grid_auto_flow": null,
            "grid_auto_rows": null,
            "grid_column": null,
            "grid_gap": null,
            "grid_row": null,
            "grid_template_areas": null,
            "grid_template_columns": null,
            "grid_template_rows": null,
            "height": null,
            "justify_content": null,
            "justify_items": null,
            "left": null,
            "margin": null,
            "max_height": null,
            "max_width": null,
            "min_height": null,
            "min_width": null,
            "object_fit": null,
            "object_position": null,
            "order": null,
            "overflow": null,
            "overflow_x": null,
            "overflow_y": null,
            "padding": null,
            "right": null,
            "top": null,
            "visibility": null,
            "width": null
          }
        },
        "87b2362998734cd5b376eec51c79d37a": {
          "model_module": "@jupyter-widgets/controls",
          "model_name": "ButtonStyleModel",
          "model_module_version": "1.5.0",
          "state": {
            "_model_module": "@jupyter-widgets/controls",
            "_model_module_version": "1.5.0",
            "_model_name": "ButtonStyleModel",
            "_view_count": null,
            "_view_module": "@jupyter-widgets/base",
            "_view_module_version": "1.2.0",
            "_view_name": "StyleView",
            "button_color": null,
            "font_weight": ""
          }
        },
        "66d1ca786a24407385d821501e251006": {
          "model_module": "@jupyter-widgets/output",
          "model_name": "OutputModel",
          "model_module_version": "1.0.0",
          "state": {
            "_dom_classes": [],
            "_model_module": "@jupyter-widgets/output",
            "_model_module_version": "1.0.0",
            "_model_name": "OutputModel",
            "_view_count": null,
            "_view_module": "@jupyter-widgets/output",
            "_view_module_version": "1.0.0",
            "_view_name": "OutputView",
            "layout": "IPY_MODEL_17190efb8ebc454484c4d03356d70759",
            "msg_id": "",
            "outputs": [
              {
                "output_type": "display_data",
                "data": {
                  "text/plain": "<IPython.core.display.HTML object>",
                  "text/html": "<h3 style='color:red'>Predicted Mortality Risk: 74.2%</h3>"
                },
                "metadata": {}
              },
              {
                "output_type": "display_data",
                "data": {
                  "text/plain": "<Figure size 800x500 with 1 Axes>",
                  "image/png": "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\n"
                },
                "metadata": {}
              }
            ]
          }
        },
        "17190efb8ebc454484c4d03356d70759": {
          "model_module": "@jupyter-widgets/base",
          "model_name": "LayoutModel",
          "model_module_version": "1.2.0",
          "state": {
            "_model_module": "@jupyter-widgets/base",
            "_model_module_version": "1.2.0",
            "_model_name": "LayoutModel",
            "_view_count": null,
            "_view_module": "@jupyter-widgets/base",
            "_view_module_version": "1.2.0",
            "_view_name": "LayoutView",
            "align_content": null,
            "align_items": null,
            "align_self": null,
            "border": null,
            "bottom": null,
            "display": null,
            "flex": null,
            "flex_flow": null,
            "grid_area": null,
            "grid_auto_columns": null,
            "grid_auto_flow": null,
            "grid_auto_rows": null,
            "grid_column": null,
            "grid_gap": null,
            "grid_row": null,
            "grid_template_areas": null,
            "grid_template_columns": null,
            "grid_template_rows": null,
            "height": null,
            "justify_content": null,
            "justify_items": null,
            "left": null,
            "margin": null,
            "max_height": null,
            "max_width": null,
            "min_height": null,
            "min_width": null,
            "object_fit": null,
            "object_position": null,
            "order": null,
            "overflow": null,
            "overflow_x": null,
            "overflow_y": null,
            "padding": null,
            "right": null,
            "top": null,
            "visibility": null,
            "width": null
          }
        },
        "a332408b47bd4a7796118caa75447338": {
          "model_module": "@jupyter-widgets/controls",
          "model_name": "DropdownModel",
          "model_module_version": "1.5.0",
          "state": {
            "_dom_classes": [],
            "_model_module": "@jupyter-widgets/controls",
            "_model_module_version": "1.5.0",
            "_model_name": "DropdownModel",
            "_options_labels": [
              "-- Select Severity --",
              "Mild",
              "Moderate",
              "Severe"
            ],
            "_view_count": null,
            "_view_module": "@jupyter-widgets/controls",
            "_view_module_version": "1.5.0",
            "_view_name": "DropdownView",
            "description": "Severity:",
            "description_tooltip": null,
            "disabled": false,
            "index": 1,
            "layout": "IPY_MODEL_434386ee0ca3443895754f93b033e8b9",
            "style": "IPY_MODEL_03dd3bfd102a4f228b583b5bcc06f73a"
          }
        },
        "434386ee0ca3443895754f93b033e8b9": {
          "model_module": "@jupyter-widgets/base",
          "model_name": "LayoutModel",
          "model_module_version": "1.2.0",
          "state": {
            "_model_module": "@jupyter-widgets/base",
            "_model_module_version": "1.2.0",
            "_model_name": "LayoutModel",
            "_view_count": null,
            "_view_module": "@jupyter-widgets/base",
            "_view_module_version": "1.2.0",
            "_view_name": "LayoutView",
            "align_content": null,
            "align_items": null,
            "align_self": null,
            "border": null,
            "bottom": null,
            "display": null,
            "flex": null,
            "flex_flow": null,
            "grid_area": null,
            "grid_auto_columns": null,
            "grid_auto_flow": null,
            "grid_auto_rows": null,
            "grid_column": null,
            "grid_gap": null,
            "grid_row": null,
            "grid_template_areas": null,
            "grid_template_columns": null,
            "grid_template_rows": null,
            "height": null,
            "justify_content": null,
            "justify_items": null,
            "left": null,
            "margin": null,
            "max_height": null,
            "max_width": null,
            "min_height": null,
            "min_width": null,
            "object_fit": null,
            "object_position": null,
            "order": null,
            "overflow": null,
            "overflow_x": null,
            "overflow_y": null,
            "padding": null,
            "right": null,
            "top": null,
            "visibility": null,
            "width": null
          }
        },
        "03dd3bfd102a4f228b583b5bcc06f73a": {
          "model_module": "@jupyter-widgets/controls",
          "model_name": "DescriptionStyleModel",
          "model_module_version": "1.5.0",
          "state": {
            "_model_module": "@jupyter-widgets/controls",
            "_model_module_version": "1.5.0",
            "_model_name": "DescriptionStyleModel",
            "_view_count": null,
            "_view_module": "@jupyter-widgets/base",
            "_view_module_version": "1.2.0",
            "_view_name": "StyleView",
            "description_width": "initial"
          }
        },
        "318962c8c42c4e1195f21530d1c04506": {
          "model_module": "@jupyter-widgets/controls",
          "model_name": "IntSliderModel",
          "model_module_version": "1.5.0",
          "state": {
            "_dom_classes": [],
            "_model_module": "@jupyter-widgets/controls",
            "_model_module_version": "1.5.0",
            "_model_name": "IntSliderModel",
            "_view_count": null,
            "_view_module": "@jupyter-widgets/controls",
            "_view_module_version": "1.5.0",
            "_view_name": "IntSliderView",
            "continuous_update": true,
            "description": "SpO₂:",
            "description_tooltip": null,
            "disabled": false,
            "layout": "IPY_MODEL_aa6303684ac1462fa0d43690922bbb20",
            "max": 100,
            "min": 70,
            "orientation": "horizontal",
            "readout": true,
            "readout_format": "d",
            "step": 1,
            "style": "IPY_MODEL_b89b82f0a9bf4866a8a3aaf28bec8e01",
            "value": 95
          }
        },
        "aa6303684ac1462fa0d43690922bbb20": {
          "model_module": "@jupyter-widgets/base",
          "model_name": "LayoutModel",
          "model_module_version": "1.2.0",
          "state": {
            "_model_module": "@jupyter-widgets/base",
            "_model_module_version": "1.2.0",
            "_model_name": "LayoutModel",
            "_view_count": null,
            "_view_module": "@jupyter-widgets/base",
            "_view_module_version": "1.2.0",
            "_view_name": "LayoutView",
            "align_content": null,
            "align_items": null,
            "align_self": null,
            "border": null,
            "bottom": null,
            "display": null,
            "flex": null,
            "flex_flow": null,
            "grid_area": null,
            "grid_auto_columns": null,
            "grid_auto_flow": null,
            "grid_auto_rows": null,
            "grid_column": null,
            "grid_gap": null,
            "grid_row": null,
            "grid_template_areas": null,
            "grid_template_columns": null,
            "grid_template_rows": null,
            "height": null,
            "justify_content": null,
            "justify_items": null,
            "left": null,
            "margin": null,
            "max_height": null,
            "max_width": null,
            "min_height": null,
            "min_width": null,
            "object_fit": null,
            "object_position": null,
            "order": null,
            "overflow": null,
            "overflow_x": null,
            "overflow_y": null,
            "padding": null,
            "right": null,
            "top": null,
            "visibility": null,
            "width": null
          }
        },
        "b89b82f0a9bf4866a8a3aaf28bec8e01": {
          "model_module": "@jupyter-widgets/controls",
          "model_name": "SliderStyleModel",
          "model_module_version": "1.5.0",
          "state": {
            "_model_module": "@jupyter-widgets/controls",
            "_model_module_version": "1.5.0",
            "_model_name": "SliderStyleModel",
            "_view_count": null,
            "_view_module": "@jupyter-widgets/base",
            "_view_module_version": "1.2.0",
            "_view_name": "StyleView",
            "description_width": "initial",
            "handle_color": null
          }
        },
        "574b9bf2c65847e2a9a78efdbdb95382": {
          "model_module": "@jupyter-widgets/controls",
          "model_name": "IntSliderModel",
          "model_module_version": "1.5.0",
          "state": {
            "_dom_classes": [],
            "_model_module": "@jupyter-widgets/controls",
            "_model_module_version": "1.5.0",
            "_model_name": "IntSliderModel",
            "_view_count": null,
            "_view_module": "@jupyter-widgets/controls",
            "_view_module_version": "1.5.0",
            "_view_name": "IntSliderView",
            "continuous_update": true,
            "description": "Heart Rate:",
            "description_tooltip": null,
            "disabled": false,
            "layout": "IPY_MODEL_08d736adf1804ddf9c93df20f5275296",
            "max": 220,
            "min": 60,
            "orientation": "horizontal",
            "readout": true,
            "readout_format": "d",
            "step": 1,
            "style": "IPY_MODEL_0d543ea72e3d4626a2afdfcb971273e7",
            "value": 107
          }
        },
        "08d736adf1804ddf9c93df20f5275296": {
          "model_module": "@jupyter-widgets/base",
          "model_name": "LayoutModel",
          "model_module_version": "1.2.0",
          "state": {
            "_model_module": "@jupyter-widgets/base",
            "_model_module_version": "1.2.0",
            "_model_name": "LayoutModel",
            "_view_count": null,
            "_view_module": "@jupyter-widgets/base",
            "_view_module_version": "1.2.0",
            "_view_name": "LayoutView",
            "align_content": null,
            "align_items": null,
            "align_self": null,
            "border": null,
            "bottom": null,
            "display": null,
            "flex": null,
            "flex_flow": null,
            "grid_area": null,
            "grid_auto_columns": null,
            "grid_auto_flow": null,
            "grid_auto_rows": null,
            "grid_column": null,
            "grid_gap": null,
            "grid_row": null,
            "grid_template_areas": null,
            "grid_template_columns": null,
            "grid_template_rows": null,
            "height": null,
            "justify_content": null,
            "justify_items": null,
            "left": null,
            "margin": null,
            "max_height": null,
            "max_width": null,
            "min_height": null,
            "min_width": null,
            "object_fit": null,
            "object_position": null,
            "order": null,
            "overflow": null,
            "overflow_x": null,
            "overflow_y": null,
            "padding": null,
            "right": null,
            "top": null,
            "visibility": null,
            "width": null
          }
        },
        "0d543ea72e3d4626a2afdfcb971273e7": {
          "model_module": "@jupyter-widgets/controls",
          "model_name": "SliderStyleModel",
          "model_module_version": "1.5.0",
          "state": {
            "_model_module": "@jupyter-widgets/controls",
            "_model_module_version": "1.5.0",
            "_model_name": "SliderStyleModel",
            "_view_count": null,
            "_view_module": "@jupyter-widgets/base",
            "_view_module_version": "1.2.0",
            "_view_name": "StyleView",
            "description_width": "initial",
            "handle_color": null
          }
        },
        "91ef560fdd904b2dbaa38f368fb60057": {
          "model_module": "@jupyter-widgets/controls",
          "model_name": "IntSliderModel",
          "model_module_version": "1.5.0",
          "state": {
            "_dom_classes": [],
            "_model_module": "@jupyter-widgets/controls",
            "_model_module_version": "1.5.0",
            "_model_name": "IntSliderModel",
            "_view_count": null,
            "_view_module": "@jupyter-widgets/controls",
            "_view_module_version": "1.5.0",
            "_view_name": "IntSliderView",
            "continuous_update": true,
            "description": "Age (days):",
            "description_tooltip": null,
            "disabled": false,
            "layout": "IPY_MODEL_f6cf747e29f141079c7830717f4c3fbd",
            "max": 90,
            "min": 0,
            "orientation": "horizontal",
            "readout": true,
            "readout_format": "d",
            "step": 1,
            "style": "IPY_MODEL_fd27b4277f224a7d90e1f442696172d7",
            "value": 16
          }
        },
        "f6cf747e29f141079c7830717f4c3fbd": {
          "model_module": "@jupyter-widgets/base",
          "model_name": "LayoutModel",
          "model_module_version": "1.2.0",
          "state": {
            "_model_module": "@jupyter-widgets/base",
            "_model_module_version": "1.2.0",
            "_model_name": "LayoutModel",
            "_view_count": null,
            "_view_module": "@jupyter-widgets/base",
            "_view_module_version": "1.2.0",
            "_view_name": "LayoutView",
            "align_content": null,
            "align_items": null,
            "align_self": null,
            "border": null,
            "bottom": null,
            "display": null,
            "flex": null,
            "flex_flow": null,
            "grid_area": null,
            "grid_auto_columns": null,
            "grid_auto_flow": null,
            "grid_auto_rows": null,
            "grid_column": null,
            "grid_gap": null,
            "grid_row": null,
            "grid_template_areas": null,
            "grid_template_columns": null,
            "grid_template_rows": null,
            "height": null,
            "justify_content": null,
            "justify_items": null,
            "left": null,
            "margin": null,
            "max_height": null,
            "max_width": null,
            "min_height": null,
            "min_width": null,
            "object_fit": null,
            "object_position": null,
            "order": null,
            "overflow": null,
            "overflow_x": null,
            "overflow_y": null,
            "padding": null,
            "right": null,
            "top": null,
            "visibility": null,
            "width": null
          }
        },
        "fd27b4277f224a7d90e1f442696172d7": {
          "model_module": "@jupyter-widgets/controls",
          "model_name": "SliderStyleModel",
          "model_module_version": "1.5.0",
          "state": {
            "_model_module": "@jupyter-widgets/controls",
            "_model_module_version": "1.5.0",
            "_model_name": "SliderStyleModel",
            "_view_count": null,
            "_view_module": "@jupyter-widgets/base",
            "_view_module_version": "1.2.0",
            "_view_name": "StyleView",
            "description_width": "initial",
            "handle_color": null
          }
        },
        "b89e9512da784b2c9dac31a0fdf47f01": {
          "model_module": "@jupyter-widgets/controls",
          "model_name": "ButtonModel",
          "model_module_version": "1.5.0",
          "state": {
            "_dom_classes": [],
            "_model_module": "@jupyter-widgets/controls",
            "_model_module_version": "1.5.0",
            "_model_name": "ButtonModel",
            "_view_count": null,
            "_view_module": "@jupyter-widgets/controls",
            "_view_module_version": "1.5.0",
            "_view_name": "ButtonView",
            "button_style": "primary",
            "description": "Submit Info",
            "disabled": false,
            "icon": "",
            "layout": "IPY_MODEL_67e2ca3b1eaa43e39d93339a6d3dc127",
            "style": "IPY_MODEL_d7eb46b22e2244b0b8979796b5ff540c",
            "tooltip": ""
          }
        },
        "67e2ca3b1eaa43e39d93339a6d3dc127": {
          "model_module": "@jupyter-widgets/base",
          "model_name": "LayoutModel",
          "model_module_version": "1.2.0",
          "state": {
            "_model_module": "@jupyter-widgets/base",
            "_model_module_version": "1.2.0",
            "_model_name": "LayoutModel",
            "_view_count": null,
            "_view_module": "@jupyter-widgets/base",
            "_view_module_version": "1.2.0",
            "_view_name": "LayoutView",
            "align_content": null,
            "align_items": null,
            "align_self": null,
            "border": null,
            "bottom": null,
            "display": null,
            "flex": null,
            "flex_flow": null,
            "grid_area": null,
            "grid_auto_columns": null,
            "grid_auto_flow": null,
            "grid_auto_rows": null,
            "grid_column": null,
            "grid_gap": null,
            "grid_row": null,
            "grid_template_areas": null,
            "grid_template_columns": null,
            "grid_template_rows": null,
            "height": null,
            "justify_content": null,
            "justify_items": null,
            "left": null,
            "margin": null,
            "max_height": null,
            "max_width": null,
            "min_height": null,
            "min_width": null,
            "object_fit": null,
            "object_position": null,
            "order": null,
            "overflow": null,
            "overflow_x": null,
            "overflow_y": null,
            "padding": null,
            "right": null,
            "top": null,
            "visibility": null,
            "width": null
          }
        },
        "d7eb46b22e2244b0b8979796b5ff540c": {
          "model_module": "@jupyter-widgets/controls",
          "model_name": "ButtonStyleModel",
          "model_module_version": "1.5.0",
          "state": {
            "_model_module": "@jupyter-widgets/controls",
            "_model_module_version": "1.5.0",
            "_model_name": "ButtonStyleModel",
            "_view_count": null,
            "_view_module": "@jupyter-widgets/base",
            "_view_module_version": "1.2.0",
            "_view_name": "StyleView",
            "button_color": null,
            "font_weight": ""
          }
        },
        "82a92cae812746ae954bf0538004a5c4": {
          "model_module": "@jupyter-widgets/output",
          "model_name": "OutputModel",
          "model_module_version": "1.0.0",
          "state": {
            "_dom_classes": [],
            "_model_module": "@jupyter-widgets/output",
            "_model_module_version": "1.0.0",
            "_model_name": "OutputModel",
            "_view_count": null,
            "_view_module": "@jupyter-widgets/output",
            "_view_module_version": "1.0.0",
            "_view_name": "OutputView",
            "layout": "IPY_MODEL_42befb2c700b4dc7821338deea200920",
            "msg_id": "",
            "outputs": [
              {
                "output_type": "display_data",
                "data": {
                  "text/plain": "<IPython.core.display.HTML object>",
                  "text/html": "\n            <h3> Monitoring Frequency for Mild PPHN</h3>\n            <p><strong>Vitals:</strong> Vitals every 6 hours</p>\n            <p><strong>Follow-up:</strong> Follow-up echo in 3–5 days</p>\n        "
                },
                "metadata": {}
              },
              {
                "output_type": "display_data",
                "data": {
                  "text/plain": "<IPython.core.display.HTML object>",
                  "text/html": "<span style='color:green'> All values are within normal limits.</span>"
                },
                "metadata": {}
              },
              {
                "output_type": "display_data",
                "data": {
                  "text/plain": "<IPython.core.display.HTML object>",
                  "text/html": "<h3> Age-Based Trend Prediction</h3><p>Many infants begin showing respiratory improvement. Echo may reveal pressure improvements.</p>"
                },
                "metadata": {}
              },
              {
                "output_type": "display_data",
                "data": {
                  "text/plain": "<IPython.core.display.HTML object>",
                  "text/html": "\n    <h2>Persistent Pulmonary Hypertension of the Newborn (PPHN)</h2>\n    <p><strong>What is it?</strong><br>\n    PPHN is a condition where a newborn’s circulation continues to bypass the lungs after birth, preventing proper oxygenation.</p>\n\n    <p><strong>Why does it happen?</strong><br>\n    It can be due to prematurity, lung issues (like MAS or RDS), or complications during delivery.</p>\n\n    <p><strong>Symptoms Include:</strong>\n    <ul>\n        <li>Rapid breathing</li>\n        <li>Low oxygen despite support</li>\n        <li>Cyanosis (blue coloring)</li>\n    </ul></p>\n\n    <p><strong>How is it treated?</strong>\n    <ul>\n        <li>Oxygen therapy (CPAP, oxygen mask, or ventilator)</li>\n        <li>Medications to relax blood vessels</li>\n        <li>Sometimes nitric oxide or ECMO (in severe cases)</li>\n    </ul></p>\n\n    <p><strong>What to expect:</strong><br>\n    Most babies recover with close monitoring. Severity guides recovery time and interventions. Frequent assessments help prevent complications.</p>\n    "
                },
                "metadata": {}
              }
            ]
          }
        },
        "42befb2c700b4dc7821338deea200920": {
          "model_module": "@jupyter-widgets/base",
          "model_name": "LayoutModel",
          "model_module_version": "1.2.0",
          "state": {
            "_model_module": "@jupyter-widgets/base",
            "_model_module_version": "1.2.0",
            "_model_name": "LayoutModel",
            "_view_count": null,
            "_view_module": "@jupyter-widgets/base",
            "_view_module_version": "1.2.0",
            "_view_name": "LayoutView",
            "align_content": null,
            "align_items": null,
            "align_self": null,
            "border": null,
            "bottom": null,
            "display": null,
            "flex": null,
            "flex_flow": null,
            "grid_area": null,
            "grid_auto_columns": null,
            "grid_auto_flow": null,
            "grid_auto_rows": null,
            "grid_column": null,
            "grid_gap": null,
            "grid_row": null,
            "grid_template_areas": null,
            "grid_template_columns": null,
            "grid_template_rows": null,
            "height": null,
            "justify_content": null,
            "justify_items": null,
            "left": null,
            "margin": null,
            "max_height": null,
            "max_width": null,
            "min_height": null,
            "min_width": null,
            "object_fit": null,
            "object_position": null,
            "order": null,
            "overflow": null,
            "overflow_x": null,
            "overflow_y": null,
            "padding": null,
            "right": null,
            "top": null,
            "visibility": null,
            "width": null
          }
        }
      }
    }
  },
  "cells": [
    {
      "cell_type": "markdown",
      "source": [
        "# Welcome to the Assisted Early Diagnosis of Persistent Pulmonary Hypertension (PPHN) Model"
      ],
      "metadata": {
        "id": "My3FrwisMdgt"
      }
    },
    {
      "cell_type": "markdown",
      "source": [
        "# Introduction\n",
        "\n",
        "*Here you can download the necessary libraries need to run this model.*\n",
        "\n",
        "This model was created in order to assist physicians in early diagnosis and treatment of Persistent Pulmonary Hypertensions in late preterm and term infants.\n",
        "\n",
        "Given the target population of this model, it is expected to be used either in NICU settings or those undergoing routine monitoring following diagnosis of PPHN.\n",
        "\n",
        "*This model offers*\n",
        "- APGAR scoring tool\n",
        "- PPHN Severity calculator\n",
        "- PPHN Risk Calculator\n",
        "\n",
        "*as well as other valuable tools*\n",
        "\n",
        "This model utilizes the data provided in the  observational study conducted at The Children’s Hospital & the Institute of Child Health, Multan, Pakistan, from July 2011 to June 2012.\n",
        "\n",
        "https://pmc.ncbi.nlm.nih.gov/articles/PMC3858931/"
      ],
      "metadata": {
        "id": "S4Z2pyr-GHk8"
      }
    },
    {
      "cell_type": "code",
      "execution_count": null,
      "metadata": {
        "id": "YRoII9HcPBbI"
      },
      "outputs": [],
      "source": [
        "#Import needed libraries\n",
        "import pandas as pd\n",
        "import numpy as np\n",
        "import matplotlib.pyplot as plt\n",
        "import seaborn as sns\n",
        "\n",
        "from sklearn.model_selection import train_test_split, cross_val_score\n",
        "from sklearn.preprocessing import LabelEncoder, StandardScaler\n",
        "from sklearn.metrics import confusion_matrix, classification_report\n",
        "from sklearn.linear_model import LogisticRegression\n",
        "from sklearn.tree import DecisionTreeClassifier\n",
        "from sklearn.svm import SVC\n"
      ]
    },
    {
      "cell_type": "code",
      "source": [
        "pip install pyreadstat"
      ],
      "metadata": {
        "id": "2OIuuwfH_IQ2",
        "colab": {
          "base_uri": "https://localhost:8080/"
        },
        "outputId": "6f2f33b6-2832-4e45-82d3-0d93d2ea2bb4"
      },
      "execution_count": null,
      "outputs": [
        {
          "output_type": "stream",
          "name": "stdout",
          "text": [
            "Collecting pyreadstat\n",
            "  Downloading pyreadstat-1.2.8-cp311-cp311-manylinux_2_17_x86_64.manylinux2014_x86_64.whl.metadata (1.0 kB)\n",
            "Requirement already satisfied: pandas>=1.2.0 in /usr/local/lib/python3.11/dist-packages (from pyreadstat) (2.2.2)\n",
            "Requirement already satisfied: numpy>=1.23.2 in /usr/local/lib/python3.11/dist-packages (from pandas>=1.2.0->pyreadstat) (2.0.2)\n",
            "Requirement already satisfied: python-dateutil>=2.8.2 in /usr/local/lib/python3.11/dist-packages (from pandas>=1.2.0->pyreadstat) (2.8.2)\n",
            "Requirement already satisfied: pytz>=2020.1 in /usr/local/lib/python3.11/dist-packages (from pandas>=1.2.0->pyreadstat) (2025.2)\n",
            "Requirement already satisfied: tzdata>=2022.7 in /usr/local/lib/python3.11/dist-packages (from pandas>=1.2.0->pyreadstat) (2025.2)\n",
            "Requirement already satisfied: six>=1.5 in /usr/local/lib/python3.11/dist-packages (from python-dateutil>=2.8.2->pandas>=1.2.0->pyreadstat) (1.17.0)\n",
            "Downloading pyreadstat-1.2.8-cp311-cp311-manylinux_2_17_x86_64.manylinux2014_x86_64.whl (2.9 MB)\n",
            "\u001b[2K   \u001b[90m━━━━━━━━━━━━━━━━━━━━━━━━━━━━━━━━━━━━━━━━\u001b[0m \u001b[32m2.9/2.9 MB\u001b[0m \u001b[31m22.0 MB/s\u001b[0m eta \u001b[36m0:00:00\u001b[0m\n",
            "\u001b[?25hInstalling collected packages: pyreadstat\n",
            "Successfully installed pyreadstat-1.2.8\n"
          ]
        }
      ]
    },
    {
      "cell_type": "code",
      "source": [
        "!pip install ipywidgets"
      ],
      "metadata": {
        "id": "kpFmiiWAC_Xr",
        "colab": {
          "base_uri": "https://localhost:8080/"
        },
        "outputId": "aeba8cfd-40f7-4380-8a3b-361c5d873c60"
      },
      "execution_count": null,
      "outputs": [
        {
          "output_type": "stream",
          "name": "stdout",
          "text": [
            "Requirement already satisfied: ipywidgets in /usr/local/lib/python3.11/dist-packages (7.7.1)\n",
            "Requirement already satisfied: ipykernel>=4.5.1 in /usr/local/lib/python3.11/dist-packages (from ipywidgets) (6.17.1)\n",
            "Requirement already satisfied: ipython-genutils~=0.2.0 in /usr/local/lib/python3.11/dist-packages (from ipywidgets) (0.2.0)\n",
            "Requirement already satisfied: traitlets>=4.3.1 in /usr/local/lib/python3.11/dist-packages (from ipywidgets) (5.7.1)\n",
            "Requirement already satisfied: widgetsnbextension~=3.6.0 in /usr/local/lib/python3.11/dist-packages (from ipywidgets) (3.6.10)\n",
            "Requirement already satisfied: ipython>=4.0.0 in /usr/local/lib/python3.11/dist-packages (from ipywidgets) (7.34.0)\n",
            "Requirement already satisfied: jupyterlab-widgets>=1.0.0 in /usr/local/lib/python3.11/dist-packages (from ipywidgets) (3.0.13)\n",
            "Requirement already satisfied: debugpy>=1.0 in /usr/local/lib/python3.11/dist-packages (from ipykernel>=4.5.1->ipywidgets) (1.8.0)\n",
            "Requirement already satisfied: jupyter-client>=6.1.12 in /usr/local/lib/python3.11/dist-packages (from ipykernel>=4.5.1->ipywidgets) (6.1.12)\n",
            "Requirement already satisfied: matplotlib-inline>=0.1 in /usr/local/lib/python3.11/dist-packages (from ipykernel>=4.5.1->ipywidgets) (0.1.7)\n",
            "Requirement already satisfied: nest-asyncio in /usr/local/lib/python3.11/dist-packages (from ipykernel>=4.5.1->ipywidgets) (1.6.0)\n",
            "Requirement already satisfied: packaging in /usr/local/lib/python3.11/dist-packages (from ipykernel>=4.5.1->ipywidgets) (24.2)\n",
            "Requirement already satisfied: psutil in /usr/local/lib/python3.11/dist-packages (from ipykernel>=4.5.1->ipywidgets) (5.9.5)\n",
            "Requirement already satisfied: pyzmq>=17 in /usr/local/lib/python3.11/dist-packages (from ipykernel>=4.5.1->ipywidgets) (24.0.1)\n",
            "Requirement already satisfied: tornado>=6.1 in /usr/local/lib/python3.11/dist-packages (from ipykernel>=4.5.1->ipywidgets) (6.4.2)\n",
            "Requirement already satisfied: setuptools>=18.5 in /usr/local/lib/python3.11/dist-packages (from ipython>=4.0.0->ipywidgets) (75.2.0)\n",
            "Collecting jedi>=0.16 (from ipython>=4.0.0->ipywidgets)\n",
            "  Downloading jedi-0.19.2-py2.py3-none-any.whl.metadata (22 kB)\n",
            "Requirement already satisfied: decorator in /usr/local/lib/python3.11/dist-packages (from ipython>=4.0.0->ipywidgets) (4.4.2)\n",
            "Requirement already satisfied: pickleshare in /usr/local/lib/python3.11/dist-packages (from ipython>=4.0.0->ipywidgets) (0.7.5)\n",
            "Requirement already satisfied: prompt-toolkit!=3.0.0,!=3.0.1,<3.1.0,>=2.0.0 in /usr/local/lib/python3.11/dist-packages (from ipython>=4.0.0->ipywidgets) (3.0.50)\n",
            "Requirement already satisfied: pygments in /usr/local/lib/python3.11/dist-packages (from ipython>=4.0.0->ipywidgets) (2.18.0)\n",
            "Requirement already satisfied: backcall in /usr/local/lib/python3.11/dist-packages (from ipython>=4.0.0->ipywidgets) (0.2.0)\n",
            "Requirement already satisfied: pexpect>4.3 in /usr/local/lib/python3.11/dist-packages (from ipython>=4.0.0->ipywidgets) (4.9.0)\n",
            "Requirement already satisfied: notebook>=4.4.1 in /usr/local/lib/python3.11/dist-packages (from widgetsnbextension~=3.6.0->ipywidgets) (6.5.7)\n",
            "Requirement already satisfied: parso<0.9.0,>=0.8.4 in /usr/local/lib/python3.11/dist-packages (from jedi>=0.16->ipython>=4.0.0->ipywidgets) (0.8.4)\n",
            "Requirement already satisfied: jupyter-core>=4.6.0 in /usr/local/lib/python3.11/dist-packages (from jupyter-client>=6.1.12->ipykernel>=4.5.1->ipywidgets) (5.7.2)\n",
            "Requirement already satisfied: python-dateutil>=2.1 in /usr/local/lib/python3.11/dist-packages (from jupyter-client>=6.1.12->ipykernel>=4.5.1->ipywidgets) (2.8.2)\n",
            "Requirement already satisfied: jinja2 in /usr/local/lib/python3.11/dist-packages (from notebook>=4.4.1->widgetsnbextension~=3.6.0->ipywidgets) (3.1.6)\n",
            "Requirement already satisfied: argon2-cffi in /usr/local/lib/python3.11/dist-packages (from notebook>=4.4.1->widgetsnbextension~=3.6.0->ipywidgets) (23.1.0)\n",
            "Requirement already satisfied: nbformat in /usr/local/lib/python3.11/dist-packages (from notebook>=4.4.1->widgetsnbextension~=3.6.0->ipywidgets) (5.10.4)\n",
            "Requirement already satisfied: nbconvert>=5 in /usr/local/lib/python3.11/dist-packages (from notebook>=4.4.1->widgetsnbextension~=3.6.0->ipywidgets) (7.16.6)\n",
            "Requirement already satisfied: Send2Trash>=1.8.0 in /usr/local/lib/python3.11/dist-packages (from notebook>=4.4.1->widgetsnbextension~=3.6.0->ipywidgets) (1.8.3)\n",
            "Requirement already satisfied: terminado>=0.8.3 in /usr/local/lib/python3.11/dist-packages (from notebook>=4.4.1->widgetsnbextension~=3.6.0->ipywidgets) (0.18.1)\n",
            "Requirement already satisfied: prometheus-client in /usr/local/lib/python3.11/dist-packages (from notebook>=4.4.1->widgetsnbextension~=3.6.0->ipywidgets) (0.21.1)\n",
            "Requirement already satisfied: nbclassic>=0.4.7 in /usr/local/lib/python3.11/dist-packages (from notebook>=4.4.1->widgetsnbextension~=3.6.0->ipywidgets) (1.2.0)\n",
            "Requirement already satisfied: ptyprocess>=0.5 in /usr/local/lib/python3.11/dist-packages (from pexpect>4.3->ipython>=4.0.0->ipywidgets) (0.7.0)\n",
            "Requirement already satisfied: wcwidth in /usr/local/lib/python3.11/dist-packages (from prompt-toolkit!=3.0.0,!=3.0.1,<3.1.0,>=2.0.0->ipython>=4.0.0->ipywidgets) (0.2.13)\n",
            "Requirement already satisfied: platformdirs>=2.5 in /usr/local/lib/python3.11/dist-packages (from jupyter-core>=4.6.0->jupyter-client>=6.1.12->ipykernel>=4.5.1->ipywidgets) (4.3.7)\n",
            "Requirement already satisfied: notebook-shim>=0.2.3 in /usr/local/lib/python3.11/dist-packages (from nbclassic>=0.4.7->notebook>=4.4.1->widgetsnbextension~=3.6.0->ipywidgets) (0.2.4)\n",
            "Requirement already satisfied: beautifulsoup4 in /usr/local/lib/python3.11/dist-packages (from nbconvert>=5->notebook>=4.4.1->widgetsnbextension~=3.6.0->ipywidgets) (4.13.3)\n",
            "Requirement already satisfied: bleach!=5.0.0 in /usr/local/lib/python3.11/dist-packages (from bleach[css]!=5.0.0->nbconvert>=5->notebook>=4.4.1->widgetsnbextension~=3.6.0->ipywidgets) (6.2.0)\n",
            "Requirement already satisfied: defusedxml in /usr/local/lib/python3.11/dist-packages (from nbconvert>=5->notebook>=4.4.1->widgetsnbextension~=3.6.0->ipywidgets) (0.7.1)\n",
            "Requirement already satisfied: jupyterlab-pygments in /usr/local/lib/python3.11/dist-packages (from nbconvert>=5->notebook>=4.4.1->widgetsnbextension~=3.6.0->ipywidgets) (0.3.0)\n",
            "Requirement already satisfied: markupsafe>=2.0 in /usr/local/lib/python3.11/dist-packages (from nbconvert>=5->notebook>=4.4.1->widgetsnbextension~=3.6.0->ipywidgets) (3.0.2)\n",
            "Requirement already satisfied: mistune<4,>=2.0.3 in /usr/local/lib/python3.11/dist-packages (from nbconvert>=5->notebook>=4.4.1->widgetsnbextension~=3.6.0->ipywidgets) (3.1.3)\n",
            "Requirement already satisfied: nbclient>=0.5.0 in /usr/local/lib/python3.11/dist-packages (from nbconvert>=5->notebook>=4.4.1->widgetsnbextension~=3.6.0->ipywidgets) (0.10.2)\n",
            "Requirement already satisfied: pandocfilters>=1.4.1 in /usr/local/lib/python3.11/dist-packages (from nbconvert>=5->notebook>=4.4.1->widgetsnbextension~=3.6.0->ipywidgets) (1.5.1)\n",
            "Requirement already satisfied: fastjsonschema>=2.15 in /usr/local/lib/python3.11/dist-packages (from nbformat->notebook>=4.4.1->widgetsnbextension~=3.6.0->ipywidgets) (2.21.1)\n",
            "Requirement already satisfied: jsonschema>=2.6 in /usr/local/lib/python3.11/dist-packages (from nbformat->notebook>=4.4.1->widgetsnbextension~=3.6.0->ipywidgets) (4.23.0)\n",
            "Requirement already satisfied: six>=1.5 in /usr/local/lib/python3.11/dist-packages (from python-dateutil>=2.1->jupyter-client>=6.1.12->ipykernel>=4.5.1->ipywidgets) (1.17.0)\n",
            "Requirement already satisfied: argon2-cffi-bindings in /usr/local/lib/python3.11/dist-packages (from argon2-cffi->notebook>=4.4.1->widgetsnbextension~=3.6.0->ipywidgets) (21.2.0)\n",
            "Requirement already satisfied: webencodings in /usr/local/lib/python3.11/dist-packages (from bleach!=5.0.0->bleach[css]!=5.0.0->nbconvert>=5->notebook>=4.4.1->widgetsnbextension~=3.6.0->ipywidgets) (0.5.1)\n",
            "Requirement already satisfied: tinycss2<1.5,>=1.1.0 in /usr/local/lib/python3.11/dist-packages (from bleach[css]!=5.0.0->nbconvert>=5->notebook>=4.4.1->widgetsnbextension~=3.6.0->ipywidgets) (1.4.0)\n",
            "Requirement already satisfied: attrs>=22.2.0 in /usr/local/lib/python3.11/dist-packages (from jsonschema>=2.6->nbformat->notebook>=4.4.1->widgetsnbextension~=3.6.0->ipywidgets) (25.3.0)\n",
            "Requirement already satisfied: jsonschema-specifications>=2023.03.6 in /usr/local/lib/python3.11/dist-packages (from jsonschema>=2.6->nbformat->notebook>=4.4.1->widgetsnbextension~=3.6.0->ipywidgets) (2024.10.1)\n",
            "Requirement already satisfied: referencing>=0.28.4 in /usr/local/lib/python3.11/dist-packages (from jsonschema>=2.6->nbformat->notebook>=4.4.1->widgetsnbextension~=3.6.0->ipywidgets) (0.36.2)\n",
            "Requirement already satisfied: rpds-py>=0.7.1 in /usr/local/lib/python3.11/dist-packages (from jsonschema>=2.6->nbformat->notebook>=4.4.1->widgetsnbextension~=3.6.0->ipywidgets) (0.24.0)\n",
            "Requirement already satisfied: jupyter-server<3,>=1.8 in /usr/local/lib/python3.11/dist-packages (from notebook-shim>=0.2.3->nbclassic>=0.4.7->notebook>=4.4.1->widgetsnbextension~=3.6.0->ipywidgets) (1.16.0)\n",
            "Requirement already satisfied: cffi>=1.0.1 in /usr/local/lib/python3.11/dist-packages (from argon2-cffi-bindings->argon2-cffi->notebook>=4.4.1->widgetsnbextension~=3.6.0->ipywidgets) (1.17.1)\n",
            "Requirement already satisfied: soupsieve>1.2 in /usr/local/lib/python3.11/dist-packages (from beautifulsoup4->nbconvert>=5->notebook>=4.4.1->widgetsnbextension~=3.6.0->ipywidgets) (2.6)\n",
            "Requirement already satisfied: typing-extensions>=4.0.0 in /usr/local/lib/python3.11/dist-packages (from beautifulsoup4->nbconvert>=5->notebook>=4.4.1->widgetsnbextension~=3.6.0->ipywidgets) (4.13.1)\n",
            "Requirement already satisfied: pycparser in /usr/local/lib/python3.11/dist-packages (from cffi>=1.0.1->argon2-cffi-bindings->argon2-cffi->notebook>=4.4.1->widgetsnbextension~=3.6.0->ipywidgets) (2.22)\n",
            "Requirement already satisfied: anyio>=3.1.0 in /usr/local/lib/python3.11/dist-packages (from jupyter-server<3,>=1.8->notebook-shim>=0.2.3->nbclassic>=0.4.7->notebook>=4.4.1->widgetsnbextension~=3.6.0->ipywidgets) (4.9.0)\n",
            "Requirement already satisfied: websocket-client in /usr/local/lib/python3.11/dist-packages (from jupyter-server<3,>=1.8->notebook-shim>=0.2.3->nbclassic>=0.4.7->notebook>=4.4.1->widgetsnbextension~=3.6.0->ipywidgets) (1.8.0)\n",
            "Requirement already satisfied: idna>=2.8 in /usr/local/lib/python3.11/dist-packages (from anyio>=3.1.0->jupyter-server<3,>=1.8->notebook-shim>=0.2.3->nbclassic>=0.4.7->notebook>=4.4.1->widgetsnbextension~=3.6.0->ipywidgets) (3.10)\n",
            "Requirement already satisfied: sniffio>=1.1 in /usr/local/lib/python3.11/dist-packages (from anyio>=3.1.0->jupyter-server<3,>=1.8->notebook-shim>=0.2.3->nbclassic>=0.4.7->notebook>=4.4.1->widgetsnbextension~=3.6.0->ipywidgets) (1.3.1)\n",
            "Downloading jedi-0.19.2-py2.py3-none-any.whl (1.6 MB)\n",
            "\u001b[2K   \u001b[90m━━━━━━━━━━━━━━━━━━━━━━━━━━━━━━━━━━━━━━━━\u001b[0m \u001b[32m1.6/1.6 MB\u001b[0m \u001b[31m29.0 MB/s\u001b[0m eta \u001b[36m0:00:00\u001b[0m\n",
            "\u001b[?25hInstalling collected packages: jedi\n",
            "Successfully installed jedi-0.19.2\n"
          ]
        }
      ]
    },
    {
      "cell_type": "markdown",
      "source": [
        "# ICD Code Checker and APGAR Score Calculator\n",
        "\n",
        "To start, the model implements an ICD Code Checker to ensure that this tool is being utilized for appropriate patients.\n",
        "\n",
        "Then it implements an APGAR Score Calculator. The APGAR score is an evaluation method to evaluate an infant's transition to extrauterine life. The five factors observed are color, heart rate, grimace,"
      ],
      "metadata": {
        "id": "INBcU2C6ASnJ"
      }
    },
    {
      "cell_type": "markdown",
      "source": [
        "**ICD CODE CHECKER**"
      ],
      "metadata": {
        "id": "aJUf_8TbJKSZ"
      }
    },
    {
      "cell_type": "code",
      "source": [
        "# ICD Code Checker\n",
        "\n",
        "# Valid ICD-10 codes for PPHN or related neonatal respiratory conditions\n",
        "VALID_ICD_CODES = {\n",
        "    \"P29.3\": \"Persistent pulmonary hypertension of the newborn\",\n",
        "    \"P28.5\": \"Respiratory failure of newborn\",\n",
        "    \"P22.0\": \"Respiratory distress syndrome of newborn\",\n",
        "    \"P28.4\": \"Other apnea of newborn\",\n",
        "    \"P24.0\": \"Meconium aspiration syndrome\",\n",
        "    \"P36.0\": \"Sepsis of newborn\",\n",
        "    # Add more if needed\n",
        "}\n",
        "\n",
        "def check_icd_code():\n",
        "    RED = \"\\033[91m\"\n",
        "    END = \"\\033[0m\"\n",
        "\n",
        "    print(RED + \"WARNING: This tool is designed for use ONLY in neonates (newborns).\" + END)\n",
        "    print(\"Enter ICD-10 code(s) related to the infant (separate by commas if multiple):\")\n",
        "    icd_input = input(\"ICD-10 code(s): \")\n",
        "    codes = [code.strip().upper() for code in icd_input.split(\",\")]\n",
        "\n",
        "    matched = {code: VALID_ICD_CODES[code] for code in codes if code in VALID_ICD_CODES}\n",
        "\n",
        "    if not matched:\n",
        "        print(\"\\n No matching ICD-10 codes found for PPHN or related neonatal conditions.\")\n",
        "        print(\"Model use is not recommended. Please verify the diagnosis.\")\n",
        "        return False\n",
        "    else:\n",
        "        print(\"\\n Valid ICD-10 code(s) detected:\")\n",
        "        for code, desc in matched.items():\n",
        "            print(f\"  {code}: {desc}\")\n",
        "        return True\n",
        "\n",
        "print(\"\\n Prior to continuing to use the model, ensure you have the following information:\")\n",
        "print(\"\\n Gestational age (in weeks), gender, delivery mode, need for resuscitation, presence of fetal distress,\")\n",
        "print(\"\\n incidence of birth asphyxia, maternal diabetes, maternal hypertension, Meconium-stained liquor, present lung disorders, and sepsis\")\n",
        "print(\"\\n\")\n",
        "\n",
        "if check_icd_code():\n",
        "    print(\"\\n Proceed with entering patient details.\")\n",
        "else:\n",
        "    print(\"\\n Model use is not recommended. Please verify the diagnosis.\")"
      ],
      "metadata": {
        "id": "mSbKp2De_jI1",
        "colab": {
          "base_uri": "https://localhost:8080/"
        },
        "outputId": "28d39039-3e0a-4b8d-ca9f-f1dfe97e72bb"
      },
      "execution_count": null,
      "outputs": [
        {
          "output_type": "stream",
          "name": "stdout",
          "text": [
            "\n",
            " Prior to continuing to use the model, ensure you have the following information:\n",
            "\n",
            " Gestational age (in weeks), gender, delivery mode, need for resuscitation, presence of fetal distress,\n",
            "\n",
            " incidence of birth asphyxia, maternal diabetes, maternal hypertension, Meconium-stained liquor, present lung disorders, and sepsis\n",
            "\n",
            "\n",
            "\u001b[91mWARNING: This tool is designed for use ONLY in neonates (newborns).\u001b[0m\n",
            "Enter ICD-10 code(s) related to the infant (separate by commas if multiple):\n",
            "ICD-10 code(s): P29.3\n",
            "\n",
            " Valid ICD-10 code(s) detected:\n",
            "  P29.3: Persistent pulmonary hypertension of the newborn\n",
            "\n",
            " Proceed with entering patient details.\n"
          ]
        }
      ]
    },
    {
      "cell_type": "markdown",
      "source": [
        "**APGAR SCORE CALCULATOR**"
      ],
      "metadata": {
        "id": "8C3Fi0bAJQ9F"
      }
    },
    {
      "cell_type": "code",
      "source": [
        "import ipywidgets as widgets\n",
        "from IPython.display import display, HTML\n",
        "\n",
        "# Apgar scoring options\n",
        "scoring = {\n",
        "    \"Appearance\": [(\"Blue or pale all over\", 0), (\"Blue at extremities, body pink\", 1), (\"Completely pink\", 2)],\n",
        "    \"Pulse\": [(\"Absent\", 0), (\"Less than 100 bpm\", 1), (\"Over 100 bpm\", 2)],\n",
        "    \"Grimace Response\": [(\"No response\", 0), (\"Grimace or weak cry\", 1), (\"Crying, pulling away, or coughing\", 2)],\n",
        "    \"Activity\": [(\"Limp, no movement\", 0), (\"Some flexion of arms and legs\", 1), (\"Active motion\", 2)],\n",
        "    \"Respiration\": [(\"Absent\", 0), (\"Slow or irregular\", 1), (\"Good, crying\", 2)],\n",
        "}\n",
        "\n",
        "# Create dropdowns with a default \"--\" option\n",
        "dropdowns = {}\n",
        "for name, options in scoring.items():\n",
        "    dropdowns[name] = widgets.Dropdown(\n",
        "        options=[(\"--\", None)] + [(desc, score) for desc, score in options],\n",
        "        description=name + \":\",\n",
        "    )\n",
        "\n",
        "submit_button = widgets.Button(description=\"Calculate APGAR Score\", button_style=\"success\")\n",
        "output = widgets.Output()\n",
        "\n",
        "# Callback function\n",
        "def on_submit(button):\n",
        "    with output:\n",
        "        output.clear_output()\n",
        "\n",
        "        # Check if all selections are made\n",
        "        if any(widget.value is None for widget in dropdowns.values()):\n",
        "            display(HTML(\"<h4 style='color:red'> Please complete all fields before calculating the score.</h4>\"))\n",
        "            return\n",
        "\n",
        "        # Calculate total Apgar score\n",
        "        total_score = sum(widget.value for widget in dropdowns.values())\n",
        "\n",
        "        # Display result\n",
        "        display(HTML(f\"<h3 style='color:green'>Total APGAR Score: {total_score}/10</h3>\"))\n",
        "\n",
        "        # Action items and monitoring plans\n",
        "        if total_score <= 3:\n",
        "            display(HTML(\"<h4 style='color:red'> Critical: Immediate resuscitation required.</h4>\"))\n",
        "            display(HTML(\"\"\"\n",
        "                <ul>\n",
        "                    <li>Initiate full resuscitation protocol (NRP)</li>\n",
        "                    <li>Prepare for NICU admission</li>\n",
        "                    <li>Continuous cardiorespiratory monitoring</li>\n",
        "                    <li><strong>Monitoring Frequency:</strong> Every 5 minutes for first 30 minutes</li>\n",
        "                    <li><strong>Follow-up:</strong> Reassess APGAR at 5, 10, and 20 minutes; neonatal consult within 1 hour</li>\n",
        "                </ul>\n",
        "            \"\"\"))\n",
        "        elif total_score <= 6:\n",
        "            display(HTML(\"<h4 style='color:orange'> Caution: Close observation and possible intervention.</h4>\"))\n",
        "            display(HTML(\"\"\"\n",
        "                <ul>\n",
        "                    <li>Provide respiratory or thermal support if needed</li>\n",
        "                    <li>Monitor vitals closely</li>\n",
        "                    <li><strong>Monitoring Frequency:</strong> Every 15 minutes for 1 hour</li>\n",
        "                    <li><strong>Follow-up:</strong> Reassess APGAR at 10 minutes; re-evaluate at 1–2 hours</li>\n",
        "                </ul>\n",
        "            \"\"\"))\n",
        "        else:\n",
        "            display(HTML(\"<h4 style='color:green'> Stable: Routine care and continued monitoring.</h4>\"))\n",
        "            display(HTML(\"\"\"\n",
        "                <ul>\n",
        "                    <li>Continue routine postnatal care</li>\n",
        "                    <li>Monitor for any changes</li>\n",
        "                    <li><strong>Monitoring Frequency:</strong> Every 30–60 minutes as per routine nursery protocol</li>\n",
        "                    <li><strong>Follow-up:</strong> Routine newborn check at 24 hours</li>\n",
        "                </ul>\n",
        "            \"\"\"))\n",
        "\n",
        "# Connect button to function\n",
        "submit_button.on_click(on_submit)\n",
        "\n",
        "# Display interface\n",
        "display(HTML(\"<h2>APGAR Score Calculator</h2>\"))\n",
        "for widget in dropdowns.values():\n",
        "    display(widget)\n",
        "display(submit_button)\n",
        "display(output)\n"
      ],
      "metadata": {
        "id": "pdq7y799IrRz",
        "colab": {
          "base_uri": "https://localhost:8080/",
          "height": 400,
          "referenced_widgets": [
            "609bde36a94248039ba7f86b3ba54f10",
            "22dbc3bb456d44c7bf89ae0ba0dcb0e3",
            "7b4f9660c375478c9f75d8761edb339d",
            "fb880a6cf1174af0bb7b8cd30f9b6921",
            "d6cd176270304fb589762ae0b663b9ae",
            "d7f26750380f40d98f929decabaf0b97",
            "007fe0010c2f40f09e2ada1bdb515268",
            "3eabb393d4774b92899019d12c91c828",
            "ecbe4ef8d2974ddd8ca89b2e14775ee1",
            "febaea5fe06b46c6afc909ddf5feb4e6",
            "0d532f9a00dc40508d84c9f1f93c1bcd",
            "3e6b57e8c86548d88303e5f720dd484e",
            "8b5e68850fd6417ab05f243e4ab7fbb2",
            "37791dda6b0943fa90b4b1c53a0f135f",
            "534b2ec17de54c7aa0f90522a1b59f1f",
            "ee94de3bc7694c588efcc802ae67c8c3",
            "2d055b95bc8c428fa3fc4da5984bf1e1",
            "245dca50f275420380245bdceee36536",
            "07db12df6f18466795905acde05bc2cf",
            "dd698db594ef485eab3094cc941f8b3d"
          ]
        },
        "outputId": "644b0f9d-7fd9-4589-b0e4-e4dae5263c6c"
      },
      "execution_count": null,
      "outputs": [
        {
          "output_type": "display_data",
          "data": {
            "text/plain": [
              "<IPython.core.display.HTML object>"
            ],
            "text/html": [
              "<h2>APGAR Score Calculator</h2>"
            ]
          },
          "metadata": {}
        },
        {
          "output_type": "display_data",
          "data": {
            "text/plain": [
              "Dropdown(description='Appearance:', options=(('--', None), ('Blue or pale all over', 0), ('Blue at extremities…"
            ],
            "application/vnd.jupyter.widget-view+json": {
              "version_major": 2,
              "version_minor": 0,
              "model_id": "609bde36a94248039ba7f86b3ba54f10"
            }
          },
          "metadata": {}
        },
        {
          "output_type": "display_data",
          "data": {
            "text/plain": [
              "Dropdown(description='Pulse:', options=(('--', None), ('Absent', 0), ('Less than 100 bpm', 1), ('Over 100 bpm'…"
            ],
            "application/vnd.jupyter.widget-view+json": {
              "version_major": 2,
              "version_minor": 0,
              "model_id": "fb880a6cf1174af0bb7b8cd30f9b6921"
            }
          },
          "metadata": {}
        },
        {
          "output_type": "display_data",
          "data": {
            "text/plain": [
              "Dropdown(description='Grimace Response:', options=(('--', None), ('No response', 0), ('Grimace or weak cry', 1…"
            ],
            "application/vnd.jupyter.widget-view+json": {
              "version_major": 2,
              "version_minor": 0,
              "model_id": "007fe0010c2f40f09e2ada1bdb515268"
            }
          },
          "metadata": {}
        },
        {
          "output_type": "display_data",
          "data": {
            "text/plain": [
              "Dropdown(description='Activity:', options=(('--', None), ('Limp, no movement', 0), ('Some flexion of arms and …"
            ],
            "application/vnd.jupyter.widget-view+json": {
              "version_major": 2,
              "version_minor": 0,
              "model_id": "febaea5fe06b46c6afc909ddf5feb4e6"
            }
          },
          "metadata": {}
        },
        {
          "output_type": "display_data",
          "data": {
            "text/plain": [
              "Dropdown(description='Respiration:', options=(('--', None), ('Absent', 0), ('Slow or irregular', 1), ('Good, c…"
            ],
            "application/vnd.jupyter.widget-view+json": {
              "version_major": 2,
              "version_minor": 0,
              "model_id": "8b5e68850fd6417ab05f243e4ab7fbb2"
            }
          },
          "metadata": {}
        },
        {
          "output_type": "display_data",
          "data": {
            "text/plain": [
              "Button(button_style='success', description='Calculate APGAR Score', style=ButtonStyle())"
            ],
            "application/vnd.jupyter.widget-view+json": {
              "version_major": 2,
              "version_minor": 0,
              "model_id": "ee94de3bc7694c588efcc802ae67c8c3"
            }
          },
          "metadata": {}
        },
        {
          "output_type": "display_data",
          "data": {
            "text/plain": [
              "Output()"
            ],
            "application/vnd.jupyter.widget-view+json": {
              "version_major": 2,
              "version_minor": 0,
              "model_id": "07db12df6f18466795905acde05bc2cf"
            }
          },
          "metadata": {}
        }
      ]
    },
    {
      "cell_type": "markdown",
      "source": [
        "# PPHN Severity Assessment Tool\n",
        "\n",
        "Next, the model utilizes the provided data to determine the severity of the patient. This is determined by factors such as gestational age, gender, need for resuscitation, birth asphyxia, maternal diabetes, maternal hypertension, meconium-stained liquor, lung disorders, and sepsis.\n",
        "\n",
        "The output provides a severity, mortality risk, and suggested treatment."
      ],
      "metadata": {
        "id": "RgyXwGDaKL4s"
      }
    },
    {
      "cell_type": "markdown",
      "source": [
        "**PATIENT DATA INPUT FOR PPHN ASSESSMENT TOOL**"
      ],
      "metadata": {
        "id": "WuYUsvryJcg6"
      }
    },
    {
      "cell_type": "code",
      "source": [
        "# PATIENT DATA INPUT SECTION\n",
        "\n",
        "def get_patient_details():\n",
        "    print(\"\\nPlease enter the following patient details:\")\n",
        "    gestational_age = input(\"Gestational age (in weeks): \")\n",
        "    gender = input(\"Gender (Male/Female): \")\n",
        "    mode_of_delivery = input(\"Delivery mode (SVD/C-section): \")\n",
        "    resuscitation = input(\"Resuscitation needed (None/Oxygen/PPV): \")\n",
        "    fetal_distress = input(\"Fetal distress (Yes/No): \")\n",
        "    birth_asphyxia = input(\"Birth asphyxia (Yes/No): \")\n",
        "    maternal_dm = input(\"Maternal diabetes (Yes/No): \")\n",
        "    maternal_htn = input(\"Maternal hypertension (Yes/No): \")\n",
        "    meconium = input(\"Meconium-stained fluid (Yes/No): \")\n",
        "    lung_disorder = input(\"Lung disorder (None/MAS/RDS): \")\n",
        "    sepsis = input(\"Sepsis (Yes/No): \")\n",
        "\n",
        "    return {\n",
        "        \"gestational_age\": int(gestational_age),\n",
        "        \"gender\": gender.lower(),\n",
        "        \"mode_of_delivery\": mode_of_delivery.lower(),\n",
        "        \"resuscitation\": resuscitation.lower(),\n",
        "        \"fetal_distress\": fetal_distress.lower() == \"yes\",\n",
        "        \"birth_asphyxia\": birth_asphyxia.lower() == \"yes\",\n",
        "        \"maternal_dm\": maternal_dm.lower() == \"yes\",\n",
        "        \"maternal_htn\": maternal_htn.lower() == \"yes\",\n",
        "        \"meconium\": meconium.lower() == \"yes\",\n",
        "        \"lung_disorder\": lung_disorder.lower(),\n",
        "        \"sepsis\": sepsis.lower() == \"yes\",\n",
        "    }\n",
        "\n",
        "\n",
        "# RISK SCORING\n",
        "\n",
        "def estimate_risk(patient):\n",
        "    score = 0\n",
        "\n",
        "    # Gestational age\n",
        "    if patient[\"gestational_age\"] < 37:\n",
        "        score += 2  # higher risk in preterms\n",
        "    else:\n",
        "        score += 1\n",
        "\n",
        "    # Gender\n",
        "    if patient[\"gender\"] == \"male\":\n",
        "        score += 1\n",
        "\n",
        "    # Resuscitation needed\n",
        "    if patient[\"resuscitation\"] == \"ppv\":\n",
        "        score += 2\n",
        "    elif patient[\"resuscitation\"] == \"oxygen\":\n",
        "        score += 1\n",
        "\n",
        "    # Complications\n",
        "    if patient[\"birth_asphyxia\"]:\n",
        "        score += 2\n",
        "    if patient[\"lung_disorder\"] == \"rds\":\n",
        "        score += 2\n",
        "    elif patient[\"lung_disorder\"] == \"mas\":\n",
        "        score += 1\n",
        "    if patient[\"sepsis\"]:\n",
        "        score += 2\n",
        "    if patient[\"fetal_distress\"]:\n",
        "        score += 1\n",
        "\n",
        "    return score\n",
        "\n",
        "\n",
        "# SEVERITY INTERPRETATION\n",
        "\n",
        "def interpret_results(score):\n",
        "    if score <= 3:\n",
        "        severity = \"Mild\"\n",
        "        mortality_risk = \"Low\"\n",
        "        treatment = \"Oxygen therapy and monitoring\"\n",
        "    elif 4 <= score <= 6:\n",
        "        severity = \"Moderate\"\n",
        "        mortality_risk = \"Medium\"\n",
        "        treatment = \"CPAP or non-invasive support with close monitoring\"\n",
        "    else:\n",
        "        severity = \"Severe\"\n",
        "        mortality_risk = \"High\"\n",
        "        treatment = \"Intubation/IMV and consider advanced therapies (e.g., inhaled nitric oxide)\"\n",
        "\n",
        "    return severity, mortality_risk, treatment\n",
        "\n",
        "\n",
        "# MAIN RUNNER\n",
        "\n",
        "def run_pphn_assessment():\n",
        "    print(\"=== PPHN NICU ASSESSMENT TOOL ===\")\n",
        "\n",
        "    patient = get_patient_details()\n",
        "    score = estimate_risk(patient)\n",
        "    severity, mortality_risk, treatment = interpret_results(score)\n",
        "\n",
        "    print(\"\\n--- PPHN Assessment Result ---\")\n",
        "    print(f\" Estimated Severity Level: {severity}\")\n",
        "    print(f\" Mortality Risk: {mortality_risk}\")\n",
        "    print(f\" Suggested Treatment Plan: {treatment}\")\n",
        "\n",
        "\n",
        "# Run the tool\n",
        "run_pphn_assessment()\n"
      ],
      "metadata": {
        "id": "bA2ppo78G69t",
        "colab": {
          "base_uri": "https://localhost:8080/"
        },
        "outputId": "c56d79a1-bbc1-4aff-93f3-3265194233a6"
      },
      "execution_count": null,
      "outputs": [
        {
          "output_type": "stream",
          "name": "stdout",
          "text": [
            "=== PPHN NICU ASSESSMENT TOOL ===\n",
            "\n",
            "Please enter the following patient details:\n",
            "Gestational age (in weeks): 32\n",
            "Gender (Male/Female): male\n",
            "Delivery mode (SVD/C-section): c-section\n",
            "Resuscitation needed (None/Oxygen/PPV): oxygen\n",
            "Fetal distress (Yes/No): no\n",
            "Birth asphyxia (Yes/No): yes\n",
            "Maternal diabetes (Yes/No): no\n",
            "Maternal hypertension (Yes/No): no\n",
            "Meconium-stained fluid (Yes/No): no\n",
            "Lung disorder (None/MAS/RDS): none\n",
            "Sepsis (Yes/No): yes\n",
            "\n",
            "--- PPHN Assessment Result ---\n",
            " Estimated Severity Level: Severe\n",
            " Mortality Risk: High\n",
            " Suggested Treatment Plan: Intubation/IMV and consider advanced therapies (e.g., inhaled nitric oxide)\n"
          ]
        }
      ]
    },
    {
      "cell_type": "markdown",
      "source": [
        "# Mortality Risk Prediction and Graphic Representation\n",
        "Next, the model will provide a numerical mortality risk. Both categorical and numerical representations of the patient's condition can be beneficial to improving the interpretability and transparency of the data provided by the tool.\n",
        "\n",
        "Here, RR scores and associated risk factors are used to implement the physician to input the patient's values. Then, the model will calculate mortality as well as plot it against sample patients to provide a visual representation of the patient."
      ],
      "metadata": {
        "id": "8XV4hkYrEj-l"
      }
    },
    {
      "cell_type": "markdown",
      "source": [
        "**MORTALITY RISK PREDICTION**"
      ],
      "metadata": {
        "id": "rHK7OVJrJmot"
      }
    },
    {
      "cell_type": "code",
      "source": [
        "# MORTALITY RISK PREDICTOR\n",
        "\n",
        "import pandas as pd\n",
        "import numpy as np\n",
        "import matplotlib.pyplot as plt\n",
        "from sklearn.linear_model import LinearRegression\n",
        "from IPython.display import display, HTML\n",
        "import ipywidgets as widgets\n",
        "\n",
        "# Risk factors and assigned RR scores\n",
        "risk_factors = {\n",
        "    \"Gender\": {\"Male\": 2, \"Female\": 0.43},\n",
        "    \"Mode of Delivery\": {\"SVD\": 1, \"C-section\": 1},\n",
        "    \"Resuscitation\": {\"Not needed\": 0.8, \"Only oxygen\": 1, \"PPV\": 1.5},\n",
        "    \"Fetal Distress\": {\"Yes\": 1, \"No\": 0},\n",
        "    \"Birth Asphyxia\": {\"Yes\": 2.5, \"No\": 0},\n",
        "    \"Lung Disorder\": {\"None\": 0, \"MAS\": 5, \"RDS\": 5},\n",
        "    \"Sepsis\": {\"Yes\": 2, \"No\": 0},\n",
        "    \"PPHN Severity\": {\"Mild\": 1, \"Moderate\": 1.3, \"Severe\": 0.22},\n",
        "    \"Respiratory Support\": {\"Oxygen with mask\": 0, \"CPAP\": 0, \"IMV\": 0.9},\n",
        "}\n",
        "\n",
        "# Expanded sample data points for RR and Mortality\n",
        "# Each list of RR scores corresponds to different patient risk profiles.\n",
        "sample_rr = [\n",
        "    0.22, 0.43, 0.8, 1, 1.3, 1.5, 2, 2.5, 3, 3.5, 4, 5, 6, 7, 8  # Various combinations of risk factors\n",
        "]\n",
        "sample_mortality = [\n",
        "    40, 43, 45, 47, 49, 50, 52, 55, 56, 58, 60, 62, 65, 70, 75  # Corresponding mortality rates\n",
        "]\n",
        "\n",
        "# Model Fit\n",
        "X_sample = np.array(sample_rr).reshape(-1, 1)\n",
        "y_sample = np.array(sample_mortality)\n",
        "model = LinearRegression().fit(X_sample, y_sample)\n",
        "\n",
        "# Physician input dropdown\n",
        "dropdowns = {}\n",
        "for name, options in risk_factors.items():\n",
        "    all_options = [\"-- Select --\"] + list(options.keys())\n",
        "    dropdowns[name] = widgets.Dropdown(options=all_options, description=name + \":\")\n",
        "\n",
        "submit_button = widgets.Button(description=\"Predict Mortality\", button_style=\"danger\")\n",
        "output = widgets.Output()\n",
        "\n",
        "# Callback function\n",
        "def on_submit(button):\n",
        "    with output:\n",
        "        output.clear_output()\n",
        "\n",
        "        # Compute total risk score\n",
        "        total_rr = 0\n",
        "        for name, widget in dropdowns.items():\n",
        "            selection = widget.value\n",
        "            if selection != \"-- Select --\":  # Ignore if not selected\n",
        "                score = risk_factors[name][selection]\n",
        "                total_rr += score\n",
        "\n",
        "        # Predict mortality\n",
        "        predicted_mortality = model.predict(np.array([[total_rr]]))[0]\n",
        "\n",
        "        # Display prediction\n",
        "        display(HTML(f\"<h3 style='color:red'>Predicted Mortality Risk: {predicted_mortality:.1f}%</h3>\"))\n",
        "\n",
        "        # Plot graph\n",
        "        plt.figure(figsize=(8, 5))\n",
        "        plt.scatter(sample_rr, sample_mortality, label=\"Sample Patients\", color=\"blue\")\n",
        "        plt.scatter(total_rr, predicted_mortality, color=\"red\", s=100, label=\"Current Patient\")\n",
        "        plt.plot(X_sample, model.predict(X_sample), color=\"gray\", linestyle=\"--\", label=\"Linear Fit\")\n",
        "        plt.xlabel(\"Relative Risk Score\")\n",
        "        plt.ylabel(\"Mortality (%)\")\n",
        "        plt.title(\"Mortality Risk vs Relative Risk Score\")\n",
        "        plt.legend()\n",
        "        plt.grid(True)\n",
        "        plt.tight_layout()\n",
        "        plt.show()\n",
        "\n",
        "# Connect button to function\n",
        "submit_button.on_click(on_submit)\n",
        "\n",
        "# Display interface\n",
        "display(HTML(\"<h2>NICU PPHN Mortality Risk Predictor</h2>\"))\n",
        "for widget in dropdowns.values():\n",
        "    display(widget)\n",
        "display(submit_button)\n",
        "display(output)\n"
      ],
      "metadata": {
        "colab": {
          "base_uri": "https://localhost:8080/",
          "height": 897,
          "referenced_widgets": [
            "1e9e648cc77442eb8b0a88a9bd0797ec",
            "4124d8ece1b241f7bfbf85db622f8b46",
            "349a3aca4a574d84a6134101564f535e",
            "b9b5e7193e7c4509b51314a3c58fb799",
            "65de3958ebc2408bbc38f75d6116e07b",
            "1f67fce6cbab4bcda4727d97778a1a84",
            "7681efd95ec24699994c1ea4bb17e1bb",
            "f6fd642bedff4f78979f1e17041ca56e",
            "429047a54e1a4f4ebe666a87f837a81a",
            "94ee30e357d2455a9084c948abbb1364",
            "830a975c6aee499bae1b968685397e66",
            "3eebf37b0e844bc89ab50961c15317ff",
            "ccc9ba7540f2475697ba4a71d2ffeba1",
            "2f8d22bbe8dd470084e713af03625a46",
            "49f2080aa40642d2921b9b0a760b4607",
            "27fdd23f6ba249b487bbad62a29f2aec",
            "23d18ac0c5e54d2dbf8f69fd011e1a28",
            "ce8d83440f0444c4a15503d5f9203f3d",
            "0d74362d7415480fa94f661ea6fee216",
            "ff1aa7bbe18f48078571b7d9728694e7",
            "82bf56d6da294bc998c72e2eeedf0d93",
            "e04679ac55054ad6a45765c6d96409a5",
            "63c9c6bf19d648e28ed21bb7460210e1",
            "f7935f259fbf40db963afa029010f345",
            "01d054f8e3a74d14abdeae582c3c566f",
            "836f8d546a8f45398e3fcece74d42092",
            "e23de80c9f0147728572e1ac7d848200",
            "d76f5e24998b43a2ba187241bacd4ff0",
            "5d05dcd1b1574fc0ae596d038dfb04eb",
            "87b2362998734cd5b376eec51c79d37a",
            "66d1ca786a24407385d821501e251006",
            "17190efb8ebc454484c4d03356d70759"
          ]
        },
        "id": "2zXhz4X4B1K0",
        "outputId": "a85f093e-7554-4fff-9838-c244f11c3a79"
      },
      "execution_count": null,
      "outputs": [
        {
          "output_type": "display_data",
          "data": {
            "text/plain": [
              "<IPython.core.display.HTML object>"
            ],
            "text/html": [
              "<h2>NICU PPHN Mortality Risk Predictor</h2>"
            ]
          },
          "metadata": {}
        },
        {
          "output_type": "display_data",
          "data": {
            "text/plain": [
              "Dropdown(description='Gender:', options=('-- Select --', 'Male', 'Female'), value='-- Select --')"
            ],
            "application/vnd.jupyter.widget-view+json": {
              "version_major": 2,
              "version_minor": 0,
              "model_id": "1e9e648cc77442eb8b0a88a9bd0797ec"
            }
          },
          "metadata": {}
        },
        {
          "output_type": "display_data",
          "data": {
            "text/plain": [
              "Dropdown(description='Mode of Delivery:', options=('-- Select --', 'SVD', 'C-section'), value='-- Select --')"
            ],
            "application/vnd.jupyter.widget-view+json": {
              "version_major": 2,
              "version_minor": 0,
              "model_id": "b9b5e7193e7c4509b51314a3c58fb799"
            }
          },
          "metadata": {}
        },
        {
          "output_type": "display_data",
          "data": {
            "text/plain": [
              "Dropdown(description='Resuscitation:', options=('-- Select --', 'Not needed', 'Only oxygen', 'PPV'), value='--…"
            ],
            "application/vnd.jupyter.widget-view+json": {
              "version_major": 2,
              "version_minor": 0,
              "model_id": "7681efd95ec24699994c1ea4bb17e1bb"
            }
          },
          "metadata": {}
        },
        {
          "output_type": "display_data",
          "data": {
            "text/plain": [
              "Dropdown(description='Fetal Distress:', options=('-- Select --', 'Yes', 'No'), value='-- Select --')"
            ],
            "application/vnd.jupyter.widget-view+json": {
              "version_major": 2,
              "version_minor": 0,
              "model_id": "94ee30e357d2455a9084c948abbb1364"
            }
          },
          "metadata": {}
        },
        {
          "output_type": "display_data",
          "data": {
            "text/plain": [
              "Dropdown(description='Birth Asphyxia:', options=('-- Select --', 'Yes', 'No'), value='-- Select --')"
            ],
            "application/vnd.jupyter.widget-view+json": {
              "version_major": 2,
              "version_minor": 0,
              "model_id": "ccc9ba7540f2475697ba4a71d2ffeba1"
            }
          },
          "metadata": {}
        },
        {
          "output_type": "display_data",
          "data": {
            "text/plain": [
              "Dropdown(description='Lung Disorder:', options=('-- Select --', 'None', 'MAS', 'RDS'), value='-- Select --')"
            ],
            "application/vnd.jupyter.widget-view+json": {
              "version_major": 2,
              "version_minor": 0,
              "model_id": "27fdd23f6ba249b487bbad62a29f2aec"
            }
          },
          "metadata": {}
        },
        {
          "output_type": "display_data",
          "data": {
            "text/plain": [
              "Dropdown(description='Sepsis:', options=('-- Select --', 'Yes', 'No'), value='-- Select --')"
            ],
            "application/vnd.jupyter.widget-view+json": {
              "version_major": 2,
              "version_minor": 0,
              "model_id": "0d74362d7415480fa94f661ea6fee216"
            }
          },
          "metadata": {}
        },
        {
          "output_type": "display_data",
          "data": {
            "text/plain": [
              "Dropdown(description='PPHN Severity:', options=('-- Select --', 'Mild', 'Moderate', 'Severe'), value='-- Selec…"
            ],
            "application/vnd.jupyter.widget-view+json": {
              "version_major": 2,
              "version_minor": 0,
              "model_id": "e04679ac55054ad6a45765c6d96409a5"
            }
          },
          "metadata": {}
        },
        {
          "output_type": "display_data",
          "data": {
            "text/plain": [
              "Dropdown(description='Respiratory Support:', options=('-- Select --', 'Oxygen with mask', 'CPAP', 'IMV'), valu…"
            ],
            "application/vnd.jupyter.widget-view+json": {
              "version_major": 2,
              "version_minor": 0,
              "model_id": "01d054f8e3a74d14abdeae582c3c566f"
            }
          },
          "metadata": {}
        },
        {
          "output_type": "display_data",
          "data": {
            "text/plain": [
              "Button(button_style='danger', description='Predict Mortality', style=ButtonStyle())"
            ],
            "application/vnd.jupyter.widget-view+json": {
              "version_major": 2,
              "version_minor": 0,
              "model_id": "d76f5e24998b43a2ba187241bacd4ff0"
            }
          },
          "metadata": {}
        },
        {
          "output_type": "display_data",
          "data": {
            "text/plain": [
              "Output()"
            ],
            "application/vnd.jupyter.widget-view+json": {
              "version_major": 2,
              "version_minor": 0,
              "model_id": "66d1ca786a24407385d821501e251006"
            }
          },
          "metadata": {}
        }
      ]
    },
    {
      "cell_type": "markdown",
      "source": [
        "# PPHN Summary and Remote Symptom Monitoring Tool\n",
        "\n",
        "This section implements the ability of the tool to increase education, transparency, and the ability for remote symptom monitoring.\n",
        "\n",
        "Here, a description of the condition and common symptoms are provided. Additionally, there is a simple tool (where theoretically) vitals will be able to be entered and directions given on next steps.\n",
        "\n",
        "Having key information provided during these vitals checks enables caretakers to stay informed on potential changes in condition."
      ],
      "metadata": {
        "id": "k3daZPF1FUh0"
      }
    },
    {
      "cell_type": "code",
      "source": [
        "# Required libraries\n",
        "!pip install ipywidgets --quiet\n",
        "import ipywidgets as widgets\n",
        "from IPython.display import display, HTML, clear_output\n",
        "\n",
        "# Disease Summary\n",
        "\n",
        "def show_disease_summary():\n",
        "    summary_html = \"\"\"\n",
        "    <h2>Persistent Pulmonary Hypertension of the Newborn (PPHN)</h2>\n",
        "    <p><strong>What is it?</strong><br>\n",
        "    PPHN is a condition where a newborn’s circulation continues to bypass the lungs after birth, preventing proper oxygenation.</p>\n",
        "\n",
        "    <p><strong>Why does it happen?</strong><br>\n",
        "    It can be due to prematurity, lung issues (like MAS or RDS), or complications during delivery.</p>\n",
        "\n",
        "    <p><strong>Symptoms Include:</strong>\n",
        "    <ul>\n",
        "        <li>Rapid breathing</li>\n",
        "        <li>Low oxygen despite support</li>\n",
        "        <li>Cyanosis (blue coloring)</li>\n",
        "    </ul></p>\n",
        "\n",
        "    <p><strong>How is it treated?</strong>\n",
        "    <ul>\n",
        "        <li>Oxygen therapy (CPAP, oxygen mask, or ventilator)</li>\n",
        "        <li>Medications to relax blood vessels</li>\n",
        "        <li>Sometimes nitric oxide or ECMO (in severe cases)</li>\n",
        "    </ul></p>\n",
        "\n",
        "    <p><strong>What to expect:</strong><br>\n",
        "    Most babies recover with close monitoring. Severity guides recovery time and interventions. Frequent assessments help prevent complications.</p>\n",
        "    \"\"\"\n",
        "    display(HTML(summary_html))\n",
        "\n",
        "\n",
        "\n",
        "# Monitoring Frequency\n",
        "\n",
        "def show_monitoring_frequency(severity):\n",
        "    schedule = {\n",
        "        \"Mild\": (\"Vitals every 6 hours\", \"Follow-up echo in 3–5 days\"),\n",
        "        \"Moderate\": (\"Vitals every 4 hours\", \"Daily labs + echo in 48 hours\"),\n",
        "        \"Severe\": (\"Continuous monitoring (ICU)\", \"Daily consults: cardiology/pulmonology\")\n",
        "    }\n",
        "    if severity in schedule:\n",
        "        freq, followup = schedule[severity]\n",
        "        display(HTML(f\"\"\"\n",
        "            <h3> Monitoring Frequency for {severity} PPHN</h3>\n",
        "            <p><strong>Vitals:</strong> {freq}</p>\n",
        "            <p><strong>Follow-up:</strong> {followup}</p>\n",
        "        \"\"\"))\n",
        "\n",
        "\n",
        "# Remote Monitoring\n",
        "\n",
        "def check_remote_values(spo2, hr):\n",
        "    alerts = []\n",
        "    if spo2 < 92:\n",
        "        alerts.append(\"<span style='color:red'> SpO₂ is low. Contact physician immediately.</span>\")\n",
        "    if hr < 100 or hr > 180:\n",
        "        alerts.append(\"<span style='color:orange'> Heart rate is outside normal range. Monitor and recheck.</span>\")\n",
        "    if not alerts:\n",
        "        alerts.append(\"<span style='color:green'> All values are within normal limits.</span>\")\n",
        "    display(HTML(\"<br>\".join(alerts)))\n",
        "\n",
        "\n",
        "# Age-based Trends\n",
        "\n",
        "def show_age_based_trends(age_days):\n",
        "    if age_days < 7:\n",
        "        msg = \"Close monitoring required; stabilization is typically ongoing.\"\n",
        "    elif age_days < 30:\n",
        "        msg = \"Many infants begin showing respiratory improvement. Echo may reveal pressure improvements.\"\n",
        "    else:\n",
        "        msg = \"Most stable cases show improvement or weaning off respiratory support.\"\n",
        "    display(HTML(f\"<h3> Age-Based Trend Prediction</h3><p>{msg}</p>\"))\n",
        "\n",
        "\n",
        "# ============================\n",
        "severity_dropdown = widgets.Dropdown(\n",
        "    options=[\"-- Select Severity --\", \"Mild\", \"Moderate\", \"Severe\"],\n",
        "    value=\"-- Select Severity --\",\n",
        "    description=\"Severity:\",\n",
        "    style={'description_width': 'initial'}\n",
        ")\n",
        "\n",
        "spo2_slider = widgets.IntSlider(\n",
        "    value=95,\n",
        "    min=70,\n",
        "    max=100,\n",
        "    step=1,\n",
        "    description='SpO₂:',\n",
        "    style={'description_width': 'initial'}\n",
        ")\n",
        "\n",
        "hr_slider = widgets.IntSlider(\n",
        "    value=130,\n",
        "    min=60,\n",
        "    max=220,\n",
        "    step=1,\n",
        "    description='Heart Rate:',\n",
        "    style={'description_width': 'initial'}\n",
        ")\n",
        "\n",
        "age_slider = widgets.IntSlider(\n",
        "    value=5,\n",
        "    min=0,\n",
        "    max=90,\n",
        "    step=1,\n",
        "    description='Age (days):',\n",
        "    style={'description_width': 'initial'}\n",
        ")\n",
        "\n",
        "submit_button = widgets.Button(\n",
        "    description='Submit Info',\n",
        "    button_style='primary'\n",
        ")\n",
        "\n",
        "output_box = widgets.Output()\n",
        "\n",
        "\n",
        "def on_submit_clicked(b):\n",
        "    with output_box:\n",
        "        clear_output()\n",
        "        # Ensure a valid severity is chosen\n",
        "        if severity_dropdown.value == \"-- Select Severity --\":\n",
        "            display(HTML(\"<span style='color:red'><strong>Please select a valid PPHN severity.</strong></span>\"))\n",
        "            return\n",
        "\n",
        "        show_monitoring_frequency(severity_dropdown.value)\n",
        "        check_remote_values(spo2_slider.value, hr_slider.value)\n",
        "        show_age_based_trends(age_slider.value)\n",
        "        show_disease_summary()\n",
        "\n",
        "\n",
        "submit_button.on_click(on_submit_clicked)\n",
        "\n",
        "# Layout for interaction\n",
        "display(HTML(\"<h2 style='color:#1a73e8'> PPHN Monitoring Assistant</h2>\"))\n",
        "display(severity_dropdown, spo2_slider, hr_slider, age_slider, submit_button, output_box)\n"
      ],
      "metadata": {
        "id": "w-enbWMSEsno",
        "colab": {
          "base_uri": "https://localhost:8080/",
          "height": 718,
          "referenced_widgets": [
            "a332408b47bd4a7796118caa75447338",
            "434386ee0ca3443895754f93b033e8b9",
            "03dd3bfd102a4f228b583b5bcc06f73a",
            "318962c8c42c4e1195f21530d1c04506",
            "aa6303684ac1462fa0d43690922bbb20",
            "b89b82f0a9bf4866a8a3aaf28bec8e01",
            "574b9bf2c65847e2a9a78efdbdb95382",
            "08d736adf1804ddf9c93df20f5275296",
            "0d543ea72e3d4626a2afdfcb971273e7",
            "91ef560fdd904b2dbaa38f368fb60057",
            "f6cf747e29f141079c7830717f4c3fbd",
            "fd27b4277f224a7d90e1f442696172d7",
            "b89e9512da784b2c9dac31a0fdf47f01",
            "67e2ca3b1eaa43e39d93339a6d3dc127",
            "d7eb46b22e2244b0b8979796b5ff540c",
            "82a92cae812746ae954bf0538004a5c4",
            "42befb2c700b4dc7821338deea200920"
          ]
        },
        "outputId": "a4f2d4bb-fdd8-40b1-a96b-62d491ad9b58"
      },
      "execution_count": null,
      "outputs": [
        {
          "output_type": "display_data",
          "data": {
            "text/plain": [
              "<IPython.core.display.HTML object>"
            ],
            "text/html": [
              "<h2 style='color:#1a73e8'> PPHN Monitoring Assistant</h2>"
            ]
          },
          "metadata": {}
        },
        {
          "output_type": "display_data",
          "data": {
            "text/plain": [
              "Dropdown(description='Severity:', options=('-- Select Severity --', 'Mild', 'Moderate', 'Severe'), style=Descr…"
            ],
            "application/vnd.jupyter.widget-view+json": {
              "version_major": 2,
              "version_minor": 0,
              "model_id": "a332408b47bd4a7796118caa75447338"
            }
          },
          "metadata": {}
        },
        {
          "output_type": "display_data",
          "data": {
            "text/plain": [
              "IntSlider(value=95, description='SpO₂:', min=70, style=SliderStyle(description_width='initial'))"
            ],
            "application/vnd.jupyter.widget-view+json": {
              "version_major": 2,
              "version_minor": 0,
              "model_id": "318962c8c42c4e1195f21530d1c04506"
            }
          },
          "metadata": {}
        },
        {
          "output_type": "display_data",
          "data": {
            "text/plain": [
              "IntSlider(value=130, description='Heart Rate:', max=220, min=60, style=SliderStyle(description_width='initial'…"
            ],
            "application/vnd.jupyter.widget-view+json": {
              "version_major": 2,
              "version_minor": 0,
              "model_id": "574b9bf2c65847e2a9a78efdbdb95382"
            }
          },
          "metadata": {}
        },
        {
          "output_type": "display_data",
          "data": {
            "text/plain": [
              "IntSlider(value=5, description='Age (days):', max=90, style=SliderStyle(description_width='initial'))"
            ],
            "application/vnd.jupyter.widget-view+json": {
              "version_major": 2,
              "version_minor": 0,
              "model_id": "91ef560fdd904b2dbaa38f368fb60057"
            }
          },
          "metadata": {}
        },
        {
          "output_type": "display_data",
          "data": {
            "text/plain": [
              "Button(button_style='primary', description='Submit Info', style=ButtonStyle())"
            ],
            "application/vnd.jupyter.widget-view+json": {
              "version_major": 2,
              "version_minor": 0,
              "model_id": "b89e9512da784b2c9dac31a0fdf47f01"
            }
          },
          "metadata": {}
        },
        {
          "output_type": "display_data",
          "data": {
            "text/plain": [
              "Output()"
            ],
            "application/vnd.jupyter.widget-view+json": {
              "version_major": 2,
              "version_minor": 0,
              "model_id": "82a92cae812746ae954bf0538004a5c4"
            }
          },
          "metadata": {}
        }
      ]
    },
    {
      "cell_type": "markdown",
      "source": [
        "# Model Performance Metrics\n",
        "This section is meant to show how often the model would be accurate in classifying the mortality rate of a patient. Currently, this is testing synthesized data. However, if the user has real, labelled data it can then be used to train the model further."
      ],
      "metadata": {
        "id": "9ojdh6ZyM7UU"
      }
    },
    {
      "cell_type": "code",
      "source": [
        "from sklearn.linear_model import LogisticRegression\n",
        "from sklearn.metrics import (\n",
        "    accuracy_score, precision_score, recall_score,\n",
        "    f1_score, roc_auc_score, roc_curve, confusion_matrix\n",
        ")\n",
        "import matplotlib.pyplot as plt\n",
        "import seaborn as sns\n",
        "\n",
        "# Simulated Patient Dataset (given lack of labeled data)\n",
        "np.random.seed(42)\n",
        "\n",
        "n_samples = 100\n",
        "simulated_data = pd.DataFrame({\n",
        "    \"birth_asphyxia\": np.random.choice([1, 0.4], n_samples),\n",
        "    \"sepsis\": np.random.binomial(1, 0.3, n_samples),\n",
        "    \"RDS\": np.random.binomial(1, 0.2, n_samples),\n",
        "    \"PPV\": np.random.binomial(1, 0.35, n_samples),\n",
        "    \"severe_PPHN\": np.random.binomial(1, 0.45, n_samples),\n",
        "    \"IMV\": np.random.binomial(1, 0.5, n_samples),\n",
        "})\n",
        "\n",
        "# Weighted scores\n",
        "weights = {\n",
        "    \"birth_asphyxia\": 2.5,\n",
        "    \"sepsis\": 2,\n",
        "    \"RDS\": 5,\n",
        "    \"PPV\": 1.5,\n",
        "    \"severe_PPHN\": 0.22,\n",
        "    \"IMV\": 0.9,\n",
        "}\n",
        "\n",
        "# Calculate total risk score\n",
        "simulated_data[\"risk_score\"] = simulated_data[list(weights)].dot(pd.Series(weights))\n",
        "\n",
        "# Probability using sigmoid\n",
        "simulated_data[\"predicted_mortality_prob\"] = 1 / (1 + np.exp(-0.2 * (simulated_data[\"risk_score\"] - 4.5)))\n",
        "\n",
        "# Simulate mortality outcome\n",
        "simulated_data[\"mortality\"] = np.random.binomial(1, simulated_data[\"predicted_mortality_prob\"])\n",
        "\n",
        "# Train logistic regression model\n",
        "X = simulated_data [list(weights)]\n",
        "y = simulated_data[\"mortality\"]\n",
        "model = LogisticRegression()\n",
        "model.fit(X, y)\n",
        "\n",
        "# Predictions\n",
        "y_pred = model.predict(X)\n",
        "y_proba = model.predict_proba(X)[:, 1]\n",
        "\n",
        "# Evaluation Metrics\n",
        "metrics = {\n",
        "    \"Accuracy\": accuracy_score(y, y_pred),\n",
        "    \"Precision\": precision_score(y, y_pred),\n",
        "    \"Recall\": recall_score(y, y_pred),\n",
        "    \"F1 Score\": f1_score(y, y_pred),\n",
        "    \"ROC AUC\": roc_auc_score(y, y_proba)\n",
        "}\n",
        "\n",
        "# Confusion Matrix?\n",
        "conf_matrix = confusion_matrix(y, y_pred)\n",
        "\n",
        "# Plot ROC Curve\n",
        "plt.figure(figsize=(10, 5))\n",
        "\n",
        "# ROC curve\n",
        "plt.subplot(1, 2, 1)\n",
        "fpr, tpr, _ = roc_curve(y, y_proba)\n",
        "plt.plot(fpr, tpr, label=f\"AUC = {metrics['ROC AUC']:.2f}\")\n",
        "plt.plot([0, 1], [0, 1], 'k--', alpha=0.5)\n",
        "plt.xlabel(\"False Positive Rate\")\n",
        "plt.ylabel(\"True Positive Rate\")\n",
        "plt.title(\"ROC Curve\")\n",
        "plt.legend()\n",
        "\n",
        "# Confusion Matrix\n",
        "plt.subplot(1, 2, 2)\n",
        "sns.heatmap(conf_matrix, annot=True, fmt=\"d\", cmap=\"Blues\", xticklabels=[\"Survived\", \"Died\"], yticklabels=[\"Survived\", \"Died\"])\n",
        "plt.xlabel(\"Predicted\")\n",
        "plt.ylabel(\"Actual\")\n",
        "plt.title(\"Confusion Matrix\")\n",
        "\n",
        "plt.tight_layout()\n",
        "plt.show()\n",
        "\n",
        "metrics\n"
      ],
      "metadata": {
        "colab": {
          "base_uri": "https://localhost:8080/",
          "height": 594
        },
        "id": "-MhYJFzwM6Nw",
        "outputId": "f40b0286-da06-40c5-d492-b294f096a695"
      },
      "execution_count": null,
      "outputs": [
        {
          "output_type": "display_data",
          "data": {
            "text/plain": [
              "<Figure size 1000x500 with 3 Axes>"
            ],
            "image/png": "[encoded data removed]"
          },
          "metadata": {}
        },
        {
          "output_type": "execute_result",
          "data": {
            "text/plain": [
              "{'Accuracy': 0.74,\n",
              " 'Precision': 0.7454545454545455,\n",
              " 'Recall': 0.7735849056603774,\n",
              " 'F1 Score': 0.7592592592592593,\n",
              " 'ROC AUC': np.float64(0.8036932958651144)}"
            ]
          },
          "metadata": {},
          "execution_count": 52
        }
      ]
    }
  ]
}